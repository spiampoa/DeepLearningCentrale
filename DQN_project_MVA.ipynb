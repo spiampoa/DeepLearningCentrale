{
 "cells": [
  {
   "cell_type": "markdown",
   "metadata": {},
   "source": [
    "**You may need to install [OpenCV](https://pypi.python.org/pypi/opencv-python) and [scikit-video](http://www.scikit-video.org/stable/).**"
   ]
  },
  {
   "cell_type": "code",
   "execution_count": 13,
   "metadata": {},
   "outputs": [],
   "source": [
    "import keras\n",
    "import numpy as np\n",
    "import io\n",
    "import base64\n",
    "from IPython.display import HTML\n",
    "import skvideo.io\n",
    "import cv2\n",
    "import json\n",
    "\n",
    "from keras.models import Sequential,model_from_json\n",
    "from keras.layers.core import Dense\n",
    "from keras.optimizers import sgd\n",
    "from keras.layers import Conv2D, MaxPooling2D, Activation, AveragePooling2D,Reshape,BatchNormalization, Flatten"
   ]
  },
  {
   "cell_type": "markdown",
   "metadata": {},
   "source": [
    "# MiniProject #3: Deep Reinforcement Learning"
   ]
  },
  {
   "cell_type": "markdown",
   "metadata": {},
   "source": [
    "__Notations__: $E_p$ is the expectation under probability $p$. Please justify each of your answer and widely comment your code."
   ]
  },
  {
   "cell_type": "markdown",
   "metadata": {},
   "source": [
    "# Context"
   ]
  },
  {
   "cell_type": "markdown",
   "metadata": {},
   "source": [
    "In a reinforcement learning algorithm, we modelize each step $t$ as an action $a_t$ obtained from a state $s_t$, i.e. $\\{(a_{t},s_{t})_{t\\leq T}\\}$ having the Markov property. We consider a discount factor $\\gamma \\in [0,1]$ that ensures convergence. The goal is to find among all the policies $\\pi$, one that maximizes the expected reward:\n",
    "\n",
    "\\begin{equation*}\n",
    "R(\\pi)=\\sum_{t\\leq T}E_{p^{\\pi}}[\\gamma^t r(s_{t},a_{t})] \\> ,\n",
    "\\end{equation*}\n",
    "\n",
    "where: \n",
    "\\begin{equation*}p^{\\pi}(a_{0},a_{1},s_{1},...,a_{T},s_{T})=p(a_{0})\\prod_{t=1}^{T}\\pi(a_{t}|s_{t})p(s_{t+1}|s_{t},a_{t}) \\> .\n",
    "\\end{equation*}\n",
    "\n",
    "We note the $Q$-function:\n",
    "\n",
    "\\begin{equation*}Q^\\pi(s,a)=E_{p^{\\pi}}[\\sum_{t\\leq T}\\gamma^{t}r(s_{t},a_{t})|s_{0}=s,a_{0}=a] \\> .\n",
    "\\end{equation*}\n",
    "\n",
    "Thus, the optimal Q function is:\n",
    "\\begin{equation*}\n",
    "Q^*(s,a)=\\max_{\\pi}Q^\\pi(s,a) \\> .\n",
    "\\end{equation*}\n",
    "\n",
    "In this project, we will apply the deep reinforcement learning techniques to a simple game: an agent will have to learn from scratch a policy that will permit it maximizing a reward."
   ]
  },
  {
   "cell_type": "markdown",
   "metadata": {},
   "source": [
    "## The environment, the agent and the game"
   ]
  },
  {
   "cell_type": "markdown",
   "metadata": {},
   "source": [
    "### The environment"
   ]
  },
  {
   "cell_type": "markdown",
   "metadata": {},
   "source": [
    "```Environment``` is an abstract class that represents the states, rewards, and actions to obtain the new state."
   ]
  },
  {
   "cell_type": "code",
   "execution_count": 2,
   "metadata": {},
   "outputs": [],
   "source": [
    "class Environment(object):\n",
    "    def __init__(self):\n",
    "        pass\n",
    "\n",
    "    def act(self, act):\n",
    "        \"\"\"\n",
    "        One can act on the environment and obtain its reaction:\n",
    "        - the new state\n",
    "        - the reward of the new state\n",
    "        - should we continue the game?\n",
    "\n",
    "        :return: state, reward, game_over\n",
    "        \"\"\"\n",
    "        pass\n",
    "\n",
    "\n",
    "    def reset(self):\n",
    "        \"\"\"\n",
    "        Reinitialize the environment to a random state and returns\n",
    "        the original state\n",
    "\n",
    "        :return: state\n",
    "        \"\"\"\n",
    "        pass\n",
    "    \n",
    "    def draw(self):\n",
    "        \"\"\"\n",
    "        Visualize in the console or graphically the current state\n",
    "        \"\"\"\n",
    "        pass"
   ]
  },
  {
   "cell_type": "markdown",
   "metadata": {},
   "source": [
    "The method ```act``` allows to act on the environment at a given state $s_t$ (stored internally), via action $a_t$. The method will return the new state $s_{t+1}$, the reward $r(s_{t},a_{t})$ and determines if $t\\leq T$ (*game_over*).\n",
    "\n",
    "The method ```reset``` simply reinitializes the environment to a random state $s_0$.\n",
    "\n",
    "The method ```draw``` displays the current state $s_t$ (this is useful to check the behavior of the Agent).\n",
    "\n",
    "We modelize $s_t$ as a tensor, while $a_t$ is an integer."
   ]
  },
  {
   "cell_type": "markdown",
   "metadata": {},
   "source": [
    "### The Agent"
   ]
  },
  {
   "cell_type": "markdown",
   "metadata": {},
   "source": [
    "The goal of the ```Agent``` is to interact with the ```Environment``` by proposing actions $a_t$ obtained from a given state $s_t$ to attempt to maximize its __reward__ $r(s_t,a_t)$. We propose the following abstract class:"
   ]
  },
  {
   "cell_type": "code",
   "execution_count": 3,
   "metadata": {},
   "outputs": [],
   "source": [
    "class Agent(object):\n",
    "    def __init__(self, epsilon=0.1, n_action=4):\n",
    "        self.epsilon = epsilon\n",
    "        self.n_action = n_action\n",
    "    \n",
    "    def set_epsilon(self,e):\n",
    "        self.epsilon = e\n",
    "\n",
    "    def act(self,s,train=True):\n",
    "        \"\"\" This function should return the next action to do:\n",
    "        an integer between 0 and 4 (not included) with a random exploration of epsilon\"\"\"\n",
    "        if train:\n",
    "            if np.random.rand() <= self.epsilon:\n",
    "                a = np.random.randint(0, self.n_action, size=1)[0]\n",
    "            else:\n",
    "                a = self.learned_act(s)\n",
    "        else: # in some cases, this can improve the performance.. remove it if poor performances\n",
    "            a = self.learned_act(s)\n",
    "\n",
    "        return a\n",
    "\n",
    "    def learned_act(self,s):\n",
    "        \"\"\" Act via the policy of the agent, from a given state s\n",
    "        it proposes an action a\"\"\"\n",
    "        pass\n",
    "\n",
    "    def reinforce(self, s, n_s, a, r, game_over_):\n",
    "        \"\"\" This function is the core of the learning algorithm. \n",
    "        It takes as an input the current state s_, the next state n_s_\n",
    "        the action a_ used to move from s_ to n_s_ and the reward r_.\n",
    "        \n",
    "        Its goal is to learn a policy.\n",
    "        \"\"\"\n",
    "        pass\n",
    "\n",
    "    def save(self):\n",
    "        \"\"\" This function returns basic stats if applicable: the\n",
    "        loss and/or the model\"\"\"\n",
    "        pass\n",
    "\n",
    "    def load(self):\n",
    "        \"\"\" This function allows to restore a model\"\"\"\n",
    "        pass"
   ]
  },
  {
   "cell_type": "markdown",
   "metadata": {},
   "source": [
    "***\n",
    "__Question 1__:\n",
    "Explain the function act. Why is ```epsilon``` essential?"
   ]
  },
  {
   "cell_type": "markdown",
   "metadata": {},
   "source": [
    "The function act returns the next action to do given the current state. In the training phase it chooses between a random action with probability $\\epsilon$, or the best action from the current policy with probability $1 - \\epsilon$ . The \"epsilon\" is essential because it makes possible to alternate between exploration and exploitation."
   ]
  },
  {
   "cell_type": "markdown",
   "metadata": {},
   "source": [
    "***\n",
    "### The Game"
   ]
  },
  {
   "cell_type": "markdown",
   "metadata": {},
   "source": [
    "The ```Agent``` and the ```Environment``` work in an interlaced way as in the following (take some time to understand this code as it is the core of the project)\n",
    "\n",
    "```python\n",
    "\n",
    "epoch = 300\n",
    "env = Environment()\n",
    "agent = Agent()\n",
    "\n",
    "\n",
    "# Number of won games\n",
    "score = 0\n",
    "loss = 0\n",
    "\n",
    "\n",
    "for e in range(epoch):\n",
    "    # At each epoch, we restart to a fresh game and get the initial state\n",
    "    state = env.reset()\n",
    "    # This assumes that the games will end\n",
    "    game_over = False\n",
    "\n",
    "    win = 0\n",
    "    lose = 0\n",
    "    \n",
    "    while not game_over:\n",
    "        # The agent performs an action\n",
    "        action = agent.act(state)\n",
    "\n",
    "        # Apply an action to the environment, get the next state, the reward\n",
    "        # and if the games end\n",
    "        prev_state = state\n",
    "        state, reward, game_over = env.act(action)\n",
    "\n",
    "        # Update the counters\n",
    "        if reward > 0:\n",
    "            win = win + reward\n",
    "        if reward < 0:\n",
    "            lose = lose -reward\n",
    "\n",
    "        # Apply the reinforcement strategy\n",
    "        loss = agent.reinforce(prev_state, state,  action, reward, game_over)\n",
    "\n",
    "    # Save as a mp4\n",
    "    if e % 10 == 0:\n",
    "        env.draw(e)\n",
    "\n",
    "    # Update stats\n",
    "    score += win-lose\n",
    "\n",
    "    print(\"Epoch {:03d}/{:03d} | Loss {:.4f} | Win/lose count {}/{} ({})\"\n",
    "          .format(e, epoch, loss, win, lose, win-lose))\n",
    "    agent.save()\n",
    "```"
   ]
  },
  {
   "cell_type": "markdown",
   "metadata": {},
   "source": [
    "# The game, *eat cheese*"
   ]
  },
  {
   "cell_type": "markdown",
   "metadata": {},
   "source": [
    "A rat runs on an island and tries to eat as much as possible. The island is subdivided into $N\\times N$ cells, in which there are cheese (+0.5) and poisonous cells (-1). The rat has a visibility of 2 cells (thus it can see $5^2$ cells). The rat is given a time $T$ to accumulate as much food as possible. It can perform 4 actions: going up, down, left, right. \n",
    "\n",
    "The goal is to code an agent to solve this task that will learn by trial and error. We propose the following environment:"
   ]
  },
  {
   "cell_type": "code",
   "execution_count": 4,
   "metadata": {},
   "outputs": [],
   "source": [
    "class Environment(object):\n",
    "    def __init__(self, grid_size=10, max_time=500, temperature=0.1):\n",
    "        grid_size = grid_size+4\n",
    "        self.grid_size = grid_size\n",
    "        self.max_time = max_time\n",
    "        self.temperature = temperature\n",
    "\n",
    "        #board on which one plays\n",
    "        self.board = np.zeros((grid_size,grid_size))\n",
    "        self.position = np.zeros((grid_size,grid_size))\n",
    "\n",
    "        # coordinate of the cat\n",
    "        self.x = 0\n",
    "        self.y = 1\n",
    "\n",
    "        # self time\n",
    "        self.t = 0\n",
    "\n",
    "        self.scale=16\n",
    "\n",
    "        self.to_draw = np.zeros((max_time+2, grid_size*self.scale, grid_size*self.scale, 3))\n",
    "\n",
    "\n",
    "    def draw(self,e):\n",
    "        skvideo.io.vwrite(str(e) + '.mp4', self.to_draw)\n",
    "\n",
    "    def get_frame(self,t):\n",
    "        b = np.zeros((self.grid_size,self.grid_size,3))+128\n",
    "        b[self.board>0,0] = 256\n",
    "        b[self.board < 0, 2] = 256\n",
    "        b[self.x,self.y,:]=256\n",
    "        b[-2:,:,:]=0\n",
    "        b[:,-2:,:]=0\n",
    "        b[:2,:,:]=0\n",
    "        b[:,:2,:]=0\n",
    "        \n",
    "        b =  cv2.resize(b, None, fx=self.scale, fy=self.scale, interpolation=cv2.INTER_NEAREST)\n",
    "\n",
    "        self.to_draw[t,:,:,:]=b\n",
    "\n",
    "\n",
    "    def act(self, action):\n",
    "        \"\"\"This function returns the new state, reward and decides if the\n",
    "        game ends.\"\"\"\n",
    "\n",
    "        self.get_frame(int(self.t))\n",
    "\n",
    "        self.position = np.zeros((self.grid_size, self.grid_size))\n",
    "\n",
    "        self.position[0:2,:]= -1\n",
    "        self.position[:,0:2] = -1\n",
    "        self.position[-2:, :] = -1\n",
    "        self.position[-2:, :] = -1\n",
    "\n",
    "        self.position[self.x, self.y] = 1\n",
    "        if action == 0:\n",
    "            if self.x == self.grid_size-3:\n",
    "                self.x = self.x-1\n",
    "            else:\n",
    "                self.x = self.x + 1\n",
    "        elif action == 1:\n",
    "            if self.x == 2:\n",
    "                self.x = self.x+1\n",
    "            else:\n",
    "                self.x = self.x-1\n",
    "        elif action == 2:\n",
    "            if self.y == self.grid_size - 3:\n",
    "                self.y = self.y - 1\n",
    "            else:\n",
    "                self.y = self.y + 1\n",
    "        elif action == 3:\n",
    "            if self.y == 2:\n",
    "                self.y = self.y + 1\n",
    "            else:\n",
    "                self.y = self.y - 1\n",
    "        else:\n",
    "            RuntimeError('Error: action not recognized')\n",
    "\n",
    "        self.t = self.t + 1\n",
    "        reward = self.board[self.x, self.y]\n",
    "        self.board[self.x, self.y] = 0\n",
    "        game_over = self.t > self.max_time\n",
    "        state = np.concatenate((self.board.reshape(self.grid_size, self.grid_size,1),\n",
    "                        self.position.reshape(self.grid_size, self.grid_size,1)),axis=2)\n",
    "        state = state[self.x-2:self.x+3,self.y-2:self.y+3,:]\n",
    "\n",
    "        return state, reward, game_over\n",
    "\n",
    "    def reset(self):\n",
    "        \"\"\"This function resets the game and returns the initial state\"\"\"\n",
    "\n",
    "        self.x = np.random.randint(3, self.grid_size-3, size=1)[0]\n",
    "        self.y = np.random.randint(3, self.grid_size-3, size=1)[0]\n",
    "\n",
    "\n",
    "        bonus = 0.5*np.random.binomial(1,self.temperature,size=self.grid_size**2)\n",
    "        bonus = bonus.reshape(self.grid_size,self.grid_size)\n",
    "\n",
    "        malus = -1.0*np.random.binomial(1,self.temperature,size=self.grid_size**2)\n",
    "        malus = malus.reshape(self.grid_size, self.grid_size)\n",
    "\n",
    "        self.to_draw = np.zeros((self.max_time+2, self.grid_size*self.scale, self.grid_size*self.scale, 3))\n",
    "\n",
    "\n",
    "        malus[bonus>0]=0\n",
    "\n",
    "        self.board = bonus + malus\n",
    "\n",
    "        self.position = np.zeros((self.grid_size, self.grid_size))\n",
    "        self.position[0:2,:]= -1\n",
    "        self.position[:,0:2] = -1\n",
    "        self.position[-2:, :] = -1\n",
    "        self.position[-2:, :] = -1\n",
    "        self.board[self.x,self.y] = 0\n",
    "        self.t = 0\n",
    "\n",
    "        state = np.concatenate((\n",
    "                               self.board.reshape(self.grid_size, self.grid_size,1),\n",
    "                        self.position.reshape(self.grid_size, self.grid_size,1)),axis=2)\n",
    "\n",
    "        state = state[self.x - 2:self.x + 3, self.y - 2:self.y + 3, :]\n",
    "        return state"
   ]
  },
  {
   "cell_type": "markdown",
   "metadata": {},
   "source": [
    "The following elements are important because they correspond to the hyper parameters for this project:"
   ]
  },
  {
   "cell_type": "code",
   "execution_count": 43,
   "metadata": {},
   "outputs": [],
   "source": [
    "# parameters\n",
    "size = 13\n",
    "T=200\n",
    "temperature=0.3\n",
    "epochs_train=20 # set small when debugging\n",
    "epochs_test=20 # set small when debugging\n",
    "\n",
    "# display videos\n",
    "def display_videos(name):\n",
    "    video = io.open(name, 'r+b').read()\n",
    "    encoded = base64.b64encode(video)\n",
    "    return '''<video alt=\"test\" controls>\n",
    "                <source src=\"data:video/mp4;base64,{0}\" type=\"video/mp4\" />\n",
    "             </video>'''.format(encoded.decode('ascii'))"
   ]
  },
  {
   "cell_type": "markdown",
   "metadata": {},
   "source": [
    "__Question 2__ Explain the use of the arrays ```position``` and ```board```."
   ]
  },
  {
   "cell_type": "markdown",
   "metadata": {},
   "source": [
    "The array \"position\" represents the island and distinguishes the cells that the rat has visited or can visit.\n",
    "\n",
    "The array \"board\" contains the the rewards on every cell at time t."
   ]
  },
  {
   "cell_type": "markdown",
   "metadata": {},
   "source": [
    "## Random Agent"
   ]
  },
  {
   "cell_type": "markdown",
   "metadata": {},
   "source": [
    "***\n",
    "__Question 3__ Implement a random Agent (only ```learned_act``` needs to be implemented):"
   ]
  },
  {
   "cell_type": "code",
   "execution_count": 6,
   "metadata": {},
   "outputs": [],
   "source": [
    "class RandomAgent(Agent):\n",
    "    def __init__(self):\n",
    "        super(RandomAgent, self).__init__()\n",
    "        pass\n",
    "\n",
    "    def learned_act(self, s):\n",
    "        return np.random.randint(0,3)"
   ]
  },
  {
   "cell_type": "markdown",
   "metadata": {},
   "source": [
    "***\n",
    "***\n",
    "__Question 4__ Visualize the game moves. You need to fill in the following function for the evaluation:"
   ]
  },
  {
   "cell_type": "code",
   "execution_count": 7,
   "metadata": {},
   "outputs": [],
   "source": [
    "def test(agent,env,epochs,prefix=''):\n",
    "    # Number of won games\n",
    "    score = 0   \n",
    "    \n",
    "\n",
    "    for e in range(epochs):\n",
    "        \n",
    "        ##### FILL IN HERE\n",
    "        state = env.reset()\n",
    "        game_over = False\n",
    "        win = 0\n",
    "        lose = 0  \n",
    "        while not game_over : \n",
    "            action = agent.learned_act(s=state)\n",
    "\n",
    "            prev_state = state\n",
    "            state, reward, game_over = env.act(action)\n",
    "\n",
    "            if reward > 0:\n",
    "                win = win + reward\n",
    "            if reward < 0:\n",
    "                lose = lose -reward\n",
    "                \n",
    "        # Save as a mp4\n",
    "        env.draw(prefix+str(e))\n",
    "\n",
    "        # Update stats\n",
    "        score = score + win-lose\n",
    "\n",
    "        print(\"Win/lose count {}/{}. Average score ({})\"\n",
    "              .format(win, lose, score/(1+e)))\n",
    "    print('Final score: '+str(score/epochs))"
   ]
  },
  {
   "cell_type": "code",
   "execution_count": 8,
   "metadata": {},
   "outputs": [
    {
     "name": "stdout",
     "output_type": "stream",
     "text": [
      "Win/lose count 5.0/9.0. Average score (-4.0)\n",
      "Win/lose count 3.5/3.0. Average score (-1.75)\n",
      "Win/lose count 4.5/7.0. Average score (-2.0)\n",
      "Win/lose count 3.0/12.0. Average score (-3.75)\n",
      "Win/lose count 5.0/0. Average score (-2.0)\n",
      "Final score: -2.0\n"
     ]
    },
    {
     "data": {
      "text/html": [
       "<video alt=\"test\" controls>\n",
       "                <source src=\"data:video/mp4;base64,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\" type=\"video/mp4\" />\n",
       "             </video>"
      ],
      "text/plain": [
       "<IPython.core.display.HTML object>"
      ]
     },
     "execution_count": 8,
     "metadata": {},
     "output_type": "execute_result"
    }
   ],
   "source": [
    "# Initialize the game\n",
    "env = Environment(grid_size=size, max_time=T,temperature=temperature)\n",
    "\n",
    "# Initialize the agent!\n",
    "agent = RandomAgent()\n",
    "\n",
    "test(agent,env,epochs_test,prefix='random')\n",
    "HTML(display_videos('random0.mp4'))"
   ]
  },
  {
   "cell_type": "markdown",
   "metadata": {},
   "source": [
    "***\n",
    "## DQN"
   ]
  },
  {
   "cell_type": "markdown",
   "metadata": {},
   "source": [
    "Let us assume here that $T=\\infty$.\n",
    "\n",
    "***\n",
    "__Question 5__ Let $\\pi$ be a policy, show that:\n",
    "\n",
    "\\begin{equation*}\n",
    "Q^{\\pi}(s,a)=E_{(s',a')\\sim p(.|s,a)}[r(s,a)+\\gamma Q^{\\pi}(s',a')]\n",
    "\\end{equation*}\n",
    "\n",
    "Then, show that for the optimal policy $\\pi^*$ (we assume its existence), the following holds: \n",
    "\n",
    "\\begin{equation*}\n",
    "Q^{*}(s,a)=E_{s'\\sim \\pi^*(.|s,a)}[r(s,a)+\\gamma\\max_{a'}Q^{*}(s',a')].\n",
    "\\end{equation*}\n",
    "Finally, deduce that a plausible objective is:\n",
    "\n",
    "\\begin{equation*}\n",
    "\\mathcal{L}(\\theta)=E_{s' \\sim \\pi^*(.|s,a)}\\Vert r+\\gamma\\max\\max_{a'}Q(s',a',\\theta)-Q(s,a,\\theta)\\Vert^{2}.\n",
    "\\end{equation*}\n",
    "\n",
    "\n"
   ]
  },
  {
   "cell_type": "markdown",
   "metadata": {},
   "source": [
    "___Answer___\n",
    "\n",
    "Let $\\pi(.|s)$ denote the policy distribution, and $p(.|s,a)$ the transition probability distribution of states. The distribution of the couple $(s',a')$ given $(s,a)$ is given by :\n",
    "\\begin{equation*}\n",
    "p(s',a'|s,a) = \\pi(a'|s)p(s'|s,a)\n",
    "\\end{equation*}\n",
    "the $Q$ function is expressed as:\n",
    "\n",
    "\\begin{align*}\n",
    "Q^\\pi(s,a) &= E_{p^{\\pi}}[\\sum_{t = 0}^{\\infty}\\gamma^{t}r(s_{t},a_{t})|s_{0}=s,a_{0}=a] \\\\\n",
    "&= r(s,a) + \\gamma E_{p^{\\pi}}[\\sum_{t = 0}^{\\infty}\\gamma^{t}r(s_{t+1},a_{t+1})|s_{0}=s,a_{0}=a] \\\\\n",
    "&= r(s,a) + \\gamma \\sum_{(s',a')} \\mathbb{P}(s_1 = s'|s_0 = s, a_0=a) \\pi(a_0 = a'|s_0=s) E_{p^{\\pi}}[\\sum_{t = 0}^{\\infty}\\gamma^{t}r(s_{t},a_{t})|s_{0}=s',a_{0}=a'] \\\\\n",
    "&= r(s,a) + \\gamma \\sum_{(s',a')} p(s',a'|s,a) Q^{\\pi}(s',a') \\\\\n",
    "&= r(s,a) + \\gamma E_{(s',a')\\sim p(.|s,a)}[Q^{\\pi}(s',a')] \\\\\n",
    "&= E_{(s',a')\\sim p(.|s,a)}[r(s,a)+\\gamma Q^{\\pi}(s',a')]\n",
    "\\end{align*}\n",
    "\n",
    "\n",
    "\n",
    "We now derive the expression of $Q^*$:\n",
    "\n",
    "\\begin{align*}\n",
    "Q^*(s,a) &= \\max_{\\pi} Q^{\\pi}(s,a) \\\\\n",
    "&= \\max_{\\pi} E_{(s',a')\\sim p(.|s,a)}[r(s,a)+\\gamma Q^{\\pi}(s',a')] \\\\\n",
    "&= E_{s' \\sim p(.|s, \\pi^*(s|a))}[r(s,a) + \\gamma \\max_{a'} Q^*(s',a') ]\n",
    "\\end{align*}\n",
    "\n",
    "\n",
    "\n"
   ]
  },
  {
   "cell_type": "markdown",
   "metadata": {},
   "source": [
    "***\n",
    "The DQN-learning algorithm relies on these derivations to train the parameters $\\theta$ of a Deep Neural Network:\n",
    "\n",
    "1. At the state $s_t$, select the action $a_t$ with best reward using $Q_t$ and store the results;\n",
    "\n",
    "2. Obtain the new state $s_{t+1}$ from the environment $p$;\n",
    "\n",
    "3. Store $(s_t,a_t,s_{t+1})$;\n",
    "\n",
    "4. Obtain $Q_{t+1}$ by minimizing  $\\mathcal{L}$ from a recovered batch from the previously stored results.\n",
    "\n",
    "***\n",
    "__Question 6__ Implement the class ```Memory``` that stores moves (in a replay buffer) via ```remember``` and provides a ```random_access``` to these. Specify a maximum memory size to avoid side effects. You can for example use a ```list()``` and set by default ```max_memory=100```."
   ]
  },
  {
   "cell_type": "code",
   "execution_count": 9,
   "metadata": {},
   "outputs": [],
   "source": [
    "class Memory(object):\n",
    "    def __init__(self, max_memory=100):\n",
    "        self.max_memory = max_memory\n",
    "        self.memory = list()\n",
    "\n",
    "    def remember(self, m):\n",
    "        self.memory.append(m)\n",
    "        if len(self.memory)==self.max_memory :\n",
    "            self.memory.pop(0)\n",
    "\n",
    "    def random_access(self):\n",
    "        i= np.random.randint(len(self.memory))\n",
    "        return self.memory[i]"
   ]
  },
  {
   "cell_type": "markdown",
   "metadata": {},
   "source": [
    "***\n",
    "The pipeline we will use for training is given below:"
   ]
  },
  {
   "cell_type": "code",
   "execution_count": 10,
   "metadata": {},
   "outputs": [],
   "source": [
    "def train(agent,env,epoch,prefix=''):\n",
    "    # Number of won games\n",
    "    score = 0\n",
    "    loss = 0\n",
    "\n",
    "    for e in range(epoch):\n",
    "        # At each epoch, we restart to a fresh game and get the initial state\n",
    "        state = env.reset()\n",
    "        # This assumes that the games will terminate\n",
    "        game_over = False\n",
    "\n",
    "        win = 0\n",
    "        lose = 0\n",
    "\n",
    "        while not game_over:\n",
    "            # The agent performs an action\n",
    "            action = agent.act(state)\n",
    "\n",
    "            # Apply an action to the environment, get the next state, the reward\n",
    "            # and if the games end\n",
    "            prev_state = state\n",
    "            state, reward, game_over = env.act(action)\n",
    "\n",
    "            # Update the counters\n",
    "            if reward > 0:\n",
    "                win = win + reward\n",
    "            if reward < 0:\n",
    "                lose = lose -reward\n",
    "\n",
    "            # Apply the reinforcement strategy\n",
    "            loss = agent.reinforce(prev_state, state,  action, reward, game_over)\n",
    "\n",
    "        # Save as a mp4\n",
    "        if e % 10 == 0:\n",
    "            env.draw(prefix+str(e))\n",
    "\n",
    "        # Update stats\n",
    "        score += win-lose\n",
    "\n",
    "        print(\"Epoch {:03d}/{:03d} | Loss {:.4f} | Win/lose count {}/{} ({})\"\n",
    "              .format(e, epoch, loss, win, lose, win-lose))\n",
    "        agent.save(name_weights=prefix+'model.h5',name_model=prefix+'model.json')"
   ]
  },
  {
   "cell_type": "markdown",
   "metadata": {},
   "source": [
    "***\n",
    "__Question 7__ Implement the DQN training algorithm using a cascade of fully connected layers. You can use different learning rate, batch size or memory size parameters. In particular, the loss might oscillate while the player will start to win the games. You have to find a good criterium."
   ]
  },
  {
   "cell_type": "code",
   "execution_count": 24,
   "metadata": {},
   "outputs": [],
   "source": [
    "class DQN(Agent):\n",
    "    def __init__(self, grid_size,  epsilon = 0.1, memory_size=100, batch_size = 16,n_state=2):\n",
    "        super(DQN, self).__init__(epsilon = epsilon)\n",
    "\n",
    "        # Discount for Q learning\n",
    "        self.discount = 0.99\n",
    "        \n",
    "        self.grid_size = grid_size\n",
    "        \n",
    "        # number of state\n",
    "        self.n_state = n_state\n",
    "\n",
    "        # Memory\n",
    "        self.memory = Memory(memory_size)\n",
    "        \n",
    "        # Batch size when learning\n",
    "        self.batch_size = batch_size\n",
    "\n",
    "    def learned_act(self, s):\n",
    "        st = s.reshape(1,5,5,self.n_state)\n",
    "        return np.argmax(self.model.predict(st))\n",
    "\n",
    "    def reinforce(self, s_, n_s_, a_, r_, game_over_):\n",
    "        # Two steps: first memorize the states, second learn from the pool\n",
    "\n",
    "        self.memory.remember([s_, n_s_, a_, r_, game_over_])\n",
    "        \n",
    "        input_states = np.zeros((self.batch_size, 5,5,self.n_state))\n",
    "        target_q = np.zeros((self.batch_size, 4))\n",
    "        \n",
    "        for i in range(self.batch_size):\n",
    "            ######## FILL IN\n",
    "            s_, n_s_, a_, r_, game_over_ = self.memory.random_access()\n",
    "            input_states[i] = s_\n",
    "            if game_over_:\n",
    "                ######## FILL IN\n",
    "                target_q[i,int(a_)] = r_\n",
    "            else:\n",
    "                ######## FILL IN\n",
    "                n_s_ = n_s_.reshape(1,5,5,self.n_state)\n",
    "                target_q[i,int(a_)] = r_ + self.discount*np.max(self.model.predict(n_s_))\n",
    "        ######## FILL IN\n",
    "        # HINT: Clip the target to avoid exploiding gradients.. -- clipping is a bit tighter\n",
    "        target_q = np.clip(target_q, -3, 3)\n",
    "\n",
    "        l = self.model.train_on_batch(input_states, target_q)\n",
    "\n",
    "\n",
    "        return l\n",
    "\n",
    "    def save(self,name_weights='model.h5',name_model='model.json'):\n",
    "        self.model.save_weights(name_weights, overwrite=True)\n",
    "        with open(name_model, \"w\") as outfile:\n",
    "            json.dump(self.model.to_json(), outfile)\n",
    "            \n",
    "    def load(self,name_weights='model.h5',name_model='model.json'):\n",
    "        with open(name_model, \"r\") as jfile:\n",
    "            model = model_from_json(json.load(jfile))\n",
    "        model.load_weights(name_weights)\n",
    "        model.compile(\"sgd\", \"mse\")\n",
    "        self.model = model\n",
    "\n",
    "            \n",
    "class DQN_FC(DQN):\n",
    "    def __init__(self, *args, lr=0.1,**kwargs):\n",
    "        super(DQN_FC, self).__init__( *args,**kwargs)\n",
    "        \n",
    "        # NN Model\n",
    "        \n",
    "        ####### FILL IN\n",
    "        \n",
    "        model = Sequential()\n",
    "        model.add(Dense(units=64, activation='relu', input_shape=(5,5,self.n_state)))\n",
    "        model.add(Flatten())\n",
    "        model.add(Dense(units=32, activation='relu'))\n",
    "        model.add(Dense(units=4, activation='linear'))\n",
    "        model.compile(sgd(lr=lr, decay=1e-4, momentum=0.0), \"mse\")\n",
    "        self.model = model\n",
    "        "
   ]
  },
  {
   "cell_type": "code",
   "execution_count": 25,
   "metadata": {},
   "outputs": [
    {
     "name": "stdout",
     "output_type": "stream",
     "text": [
      "Epoch 000/015 | Loss 0.0116 | Win/lose count 3.5/5.0 (-1.5)\n",
      "Epoch 001/015 | Loss 0.0079 | Win/lose count 4.5/11.0 (-6.5)\n",
      "Epoch 002/015 | Loss 0.0027 | Win/lose count 4.5/3.0 (1.5)\n",
      "Epoch 003/015 | Loss 0.0094 | Win/lose count 3.0/2.0 (1.0)\n",
      "Epoch 004/015 | Loss 0.0117 | Win/lose count 1.0/3.0 (-2.0)\n",
      "Epoch 005/015 | Loss 0.0056 | Win/lose count 2.5/5.0 (-2.5)\n",
      "Epoch 006/015 | Loss 0.0039 | Win/lose count 2.5/2.0 (0.5)\n",
      "Epoch 007/015 | Loss 0.0078 | Win/lose count 4.5/5.0 (-0.5)\n",
      "Epoch 008/015 | Loss 0.0087 | Win/lose count 2.5/4.0 (-1.5)\n",
      "Epoch 009/015 | Loss 0.0088 | Win/lose count 6.5/5.0 (1.5)\n",
      "Epoch 010/015 | Loss 0.0105 | Win/lose count 4.0/6.0 (-2.0)\n",
      "Epoch 011/015 | Loss 0.0010 | Win/lose count 2.0/2.0 (0.0)\n",
      "Epoch 012/015 | Loss 0.0037 | Win/lose count 7.5/2.0 (5.5)\n",
      "Epoch 013/015 | Loss 0.0061 | Win/lose count 6.0/3.0 (3.0)\n",
      "Epoch 014/015 | Loss 0.0034 | Win/lose count 7.0/3.0 (4.0)\n"
     ]
    },
    {
     "data": {
      "text/html": [
       "<video alt=\"test\" controls>\n",
       "                <source src=\"data:video/mp4;base64,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\" type=\"video/mp4\" />\n",
       "             </video>"
      ],
      "text/plain": [
       "<IPython.core.display.HTML object>"
      ]
     },
     "execution_count": 25,
     "metadata": {},
     "output_type": "execute_result"
    }
   ],
   "source": [
    "env = Environment(grid_size=size, max_time=T, temperature=0.3)\n",
    "agent = DQN_FC(size, lr=.1, epsilon = 0.1, memory_size=2000, batch_size = 32)\n",
    "train(agent, env, epochs_train, prefix='fc_train')\n",
    "HTML(display_videos('fc_train10.mp4'))"
   ]
  },
  {
   "cell_type": "markdown",
   "metadata": {},
   "source": [
    "***\n",
    "***\n",
    "__Question 8__ Implement the DQN training algorithm using a CNN (for example, 2 convolutional layers and one final fully connected layer)."
   ]
  },
  {
   "cell_type": "code",
   "execution_count": 26,
   "metadata": {},
   "outputs": [],
   "source": [
    "class DQN_CNN(DQN):\n",
    "    def __init__(self, *args,lr=0.1,**kwargs):\n",
    "        super(DQN_CNN, self).__init__(*args,**kwargs)\n",
    "        \n",
    "        ###### FILL IN\n",
    "        model = Sequential()\n",
    "        model.add(Conv2D(filters = 16, kernel_size = (2,2), strides = 1, padding = 'valid', activation = 'relu', \n",
    "                 input_shape=(5,5,self.n_state)))\n",
    "        model.add(Conv2D(filters = 16, kernel_size = (2,2), strides = 1, padding = 'valid', activation = 'relu', \n",
    "                 input_shape=(5,5,self.n_state)))\n",
    "        model.add(Flatten())\n",
    "        model.add(Dense(4, activation='linear'))\n",
    "        model.compile(sgd(lr=lr, decay=1e-4, momentum=0.0), \"mse\")\n",
    "        self.model = model"
   ]
  },
  {
   "cell_type": "code",
   "execution_count": 28,
   "metadata": {},
   "outputs": [
    {
     "name": "stdout",
     "output_type": "stream",
     "text": [
      "Epoch 000/015 | Loss 0.0091 | Win/lose count 4.0/3.0 (1.0)\n",
      "Epoch 001/015 | Loss 0.0052 | Win/lose count 3.0/3.0 (0.0)\n",
      "Epoch 002/015 | Loss 0.0064 | Win/lose count 2.5/2.0 (0.5)\n",
      "Epoch 003/015 | Loss 0.0052 | Win/lose count 3.5/5.0 (-1.5)\n",
      "Epoch 004/015 | Loss 0.0038 | Win/lose count 4.0/0 (4.0)\n",
      "Epoch 005/015 | Loss 0.0066 | Win/lose count 4.0/7.0 (-3.0)\n",
      "Epoch 006/015 | Loss 0.0030 | Win/lose count 2.5/3.0 (-0.5)\n",
      "Epoch 007/015 | Loss 0.0078 | Win/lose count 4.5/5.0 (-0.5)\n",
      "Epoch 008/015 | Loss 0.0083 | Win/lose count 4.0/2.0 (2.0)\n",
      "Epoch 009/015 | Loss 0.0096 | Win/lose count 2.5/3.0 (-0.5)\n",
      "Epoch 010/015 | Loss 0.0015 | Win/lose count 2.0/2.0 (0.0)\n",
      "Epoch 011/015 | Loss 0.0007 | Win/lose count 2.0/1.0 (1.0)\n",
      "Epoch 012/015 | Loss 0.0086 | Win/lose count 4.0/5.0 (-1.0)\n",
      "Epoch 013/015 | Loss 0.0023 | Win/lose count 1.0/3.0 (-2.0)\n",
      "Epoch 014/015 | Loss 0.0010 | Win/lose count 5.5/5.0 (0.5)\n"
     ]
    },
    {
     "data": {
      "text/html": [
       "<video alt=\"test\" controls>\n",
       "                <source src=\"data:video/mp4;base64,AAAAIGZ0eXBpc29tAAACAGlzb21pc28yYXZjMW1wNDEAAAAIZnJlZQAAFw9tZGF0AAACrQYF//+p3EXpvebZSLeWLNgg2SPu73gyNjQgLSBjb3JlIDE1NyByMjkzNSA1NDVkZTJmIC0gSC4yNjQvTVBFRy00IEFWQyBjb2RlYyAtIENvcHlsZWZ0IDIwMDMtMjAxOCAtIGh0dHA6Ly93d3cudmlkZW9sYW4ub3JnL3gyNjQuaHRtbCAtIG9wdGlvbnM6IGNhYmFjPTEgcmVmPTMgZGVibG9jaz0xOjA6MCBhbmFseXNlPTB4MToweDExMSBtZT1oZXggc3VibWU9NyBwc3k9MSBwc3lfcmQ9MS4wMDowLjAwIG1peGVkX3JlZj0xIG1lX3JhbmdlPTE2IGNocm9tYV9tZT0xIHRyZWxsaXM9MSA4eDhkY3Q9MCBjcW09MCBkZWFkem9uZT0yMSwxMSBmYXN0X3Bza2lwPTEgY2hyb21hX3FwX29mZnNldD00IHRocmVhZHM9NiBsb29rYWhlYWRfdGhyZWFkcz0xIHNsaWNlZF90aHJlYWRzPTAgbnI9MCBkZWNpbWF0ZT0xIGludGVybGFjZWQ9MCBibHVyYXlfY29tcGF0PTAgY29uc3RyYWluZWRfaW50cmE9MCBiZnJhbWVzPTMgYl9weXJhbWlkPTIgYl9hZGFwdD0xIGJfYmlhcz0wIGRpcmVjdD0xIHdlaWdodGI9MSBvcGVuX2dvcD0wIHdlaWdodHA9MiBrZXlpbnQ9MjUwIGtleWludF9taW49MjUgc2NlbmVjdXQ9NDAgaW50cmFfcmVmcmVzaD0wIHJjX2xvb2thaGVhZD00MCByYz1jcmYgbWJ0cmVlPTEgY3JmPTIzLjAgcWNvbXA9MC42MCBxcG1pbj0wIHFwbWF4PTY5IHFwc3RlcD00IGlwX3JhdGlvPTEuNDAgYXE9MToxLjAwAIAAAALMZYiEADf//vaH+BTZWBP+Wb/9DX/cj9uPrP1xYyEE31qvIejAGS+1H+b/rFFs6Z6UB/fgCJQAc24ZwpIoZ/8CmWxwvgUK/HEacX14Wn+DO2SLIzP34bS8/Vpmarq0PoMAjmdzIKfcZA/5ZFFOm1WFCHxytUnFpf3kb8ib/W9x24dwcHIb0tCxZTnyjrJyFcN2Y2oMZY3qCHDxDfUR2GxXtK1Fj313/j1iY11PNCFcRdBggBPzgRAGHgWfcBRkn5k1R9GlXZ//8UMUGGXnuDNZouu7OrbrKek0jnQiygyiu1VGVGj6WCqBPqDIUBO9ngNmsLSiC9ROwawqMFKdNGsZRiqFzRc1N6PqIJFo3u3Fze7nWSY3bFtf/qiybRfpOpugTZh/3EWZn/+H5I9/pyk385Z/W2mOWMJSR62d/zxKH/Ercwo2db/NmjDuaQGg4TSrBQAKqJb/Nb/JD8HCv7oTeCXgtaW+McoCRKfH6XRynzBTHoK6ci7gFLM9ltYJC23JZ00YswfMCYA0TrWE6bE6PNrJ6KHs2Bb4OIxiMBuLGbwSKDglkvFINiCKwLu8QSy6wtIRu8u0J7y9ByTRID/VkN+yFRjvyAz4A3duScLVFoGfjsL38hpV6UwVBLV/8ZtyGvouz/lll2anO8sAAz3TNC+VGEcj0AxX5nznCgE3a+NfnQgk5FRxrwzCqFPtAA7EkxQfmS13HDQKBi1Ofz3ridyQE7wpTnlQGtrd8tyqBWbNTHmMrGxJqhQruyIJSDmARIwUAY3FwNZCjQPHvgrPABGXuSzXil6z6KMy1rTcExpK6jTM4Ok4YVswQYABGjd9kEg+DQht9VEzWiEpMD6AwKXZZQKEs4vMb8pDuEfv3rOwE+ahgKEDdFYwhbMfzt7QTwDnis/YJmLag6k0jZj04LygNwf7Hv8QSvNZpzLhVSLwAZ6LSWjHhTAASEEAAAAlQZoibEN//qeEAAyfwGDFnMseEc+BTV023wKSf7aOu39YHNE/fQAAABABnkF5Cv8ACjtuvVneYrpBAAAAHEGaRjwhkymEN//+p4QAB8AeJrjVEv0T+fB5ysgAAAAUQZ5kalPC/wAEtz9y14yoj92sQ2EAAAAQAZ6DdEK/AAQ11aMkt/tvgQAAABABnoVqQr8ABnHajlf24j3BAAAAEkGaiEmoQWiZTBTwz/6eEAAEfQAAABABnqdqQr8ABl9RPIjr+HbAAAAAGUGaqUnhClJlMCG//qeEAAfL32fUcaEh9SAAAAAfQZrLSeEOiZTBTRMN//6nhAAFI91PvhnoXa2YoSBSgQAAABABnupqQr8ABBZPnOtDDESAAAAAGEGa7EnhDyZTAhv//qeEAAM77B69mfBGwwAAABNBmw5J4Q8mUwURPDf//qeEAAEnAAAADwGfLWpCvwACj8oHkwUigQAAABJBmzBJ4Q8mUwU8N//+p4QAAScAAAAQAZ9PakK/AAKHbW2GerTDgAAAABNBm1JJ4Q8mUwU8O//+qZYAAJWAAAAAEAGfcWpCvwACh21thnq0w4EAAAATQZt0SeEPJlMFPDv//qmWAACVgAAAABABn5NqQr8AAodtbYZ6tMOAAAAAHUGbmEnhDyZTAh3//qmWAAJz8edLOoQZoEnS+IHBAAAAEEGftkURPC//AALpPr1qKFMAAAAPAZ/VdEK/AAKPGEBkl7eBAAAAEAGf12pCvwAD4c4a95pWq8EAAAATQZvcSahBaJlMCHf//qmWAACVgAAAABBBn/pFESwv/wAC15Lc/XJjAAAAEAGeGXRCvwADy8WZ5X5KebgAAAAQAZ4bakK/AAPhzhr3mlarwQAAABNBmgBJqEFsmUwId//+qZYAAJWBAAAAEEGePkUVLC//AALXktz9cmMAAAAQAZ5ddEK/AAPLxZnlfkp5uAAAABABnl9qQr8AA+HOGveaVqvBAAAAE0GaREmoQWyZTAh3//6plgAAlYAAAAAQQZ5iRRUsL/8AAteS3P1yYwAAABABnoF0Qr8AA8vFmeV+Snm4AAAAEAGeg2pCvwAD4c4a95pWq8EAAAATQZqISahBbJlMCHf//qmWAACVgQAAABBBnqZFFSwv/wAC15Lc/XJjAAAAEAGexXRCvwADy8WZ5X5KebkAAAAQAZ7HakK/AAPhzhr3mlarwAAAABNBmsxJqEFsmUwId//+qZYAAJWAAAAAEEGe6kUVLC//AALXktz9cmMAAAAQAZ8JdEK/AAPLxZnlfkp5uAAAABABnwtqQr8AA+HOGveaVqvAAAAAE0GbEEmoQWyZTAh3//6plgAAlYEAAAAQQZ8uRRUsL/8AAteS3P1yYwAAABABn010Qr8AA8vFmeV+Snm5AAAAEAGfT2pCvwAD4c4a95pWq8AAAAATQZtUSahBbJlMCHf//qmWAACVgAAAABBBn3JFFSwv/wAC15Lc/XJjAAAAEAGfkXRCvwADy8WZ5X5KebgAAAAQAZ+TakK/AAPMz5jdDkhAeAAAABhBm5hJqEFsmUwId//+qZYAA6nxCDZ/k2kAAAATQZ+2RRUsL/8ABFZ6Vyy42YYXdwAAABABn9V0Qr8ABfrKu5DZUrLhAAAAEAGf12pCvwAF0bkMPoCQe9kAAAATQZvcSahBbJlMCHf//qmWAACVgAAAABNBn/pFFSwv/wAC15LcpmPmIizzAAAAEAGeGXRCvwAD4tga2mUPn8AAAAAQAZ4bakK/AAPMz5jdDkhAeQAAABNBmgBJqEFsmUwId//+qZYAAJWBAAAAE0GePkUVLC//AAQ2Pn0WK7i0f4IAAAAQAZ5ddEK/AAX6yruQ2VKy4AAAABABnl9qQr8ABdG5DD6AkHvZAAAAEkGaREmoQWyZTAhv//6nhAABJwAAABNBnmJFFSwv/wAC15LcpmPmIizzAAAAEAGegXRCvwAD4tga2mUPn8AAAAAQAZ6DakK/AAPMz5jdDkhAeQAAABxBmohJqEFsmUwIb//+p4QABLvjp9zIwtmKEdLFAAAAEEGepkUVLC//AALXQIKUPhkAAAAPAZ7FdEK/AAX6yru83gvBAAAAEAGex2pCvwADzAvOdaGGKEAAAAAaQZrJSahBbJlMCHf//qmWAAJQiw3RiEc+36AAAAAYQZrsSeEKUmUwId/+qZYAAmC/cPq++YuBAAAAEkGfCkU0TCv/AAXTB13mMHavnAAAAA8BnytqQr8ABdG5DEaVPOAAAAASQZswSahBaJlMCG///qeEAAEnAAAAE0GfTkURLC//AALXktymY+YiLPMAAAAQAZ9tdEK/AAPi2BraZQ+fwQAAABABn29qQr8AA8zPmN0OSEB4AAAAGkGbcUmoQWyZTAh3//6plgADpJkJNw4KPoBwAAAAGEGblEnhClJlMCHf/qmWAAOp8Rf/v6c3jwAAABFBn7JFNEwr/wAGIZua4972IwAAAA8Bn9NqQr8ABiCWlSKBLKIAAAATQZvYSahBaJlMCHf//qmWAACVgQAAABNBn/ZFESwv/wAC15LcpmPmIizyAAAAEAGeFXRCvwADy8WZ5X5KebkAAAAQAZ4XakK/AAPMz5jdDkhAeQAAABxBmhxJqEFsmUwIb//+p4QABLvjp9zIwtmKEdLEAAAAEEGeOkUVLC//AALXQIKUPhkAAAAPAZ5ZdEK/AAX6yru83gvAAAAAEAGeW2pCvwADzAvOdaGGKEEAAAAaQZpdSahBbJlMCHf//qmWAAJQiw3RiEc+36EAAAAYQZpgSeEKUmUwId/+qZYAAmC/cPq++YuAAAAAEkGenkU0TCv/AAXTB13mMHavnAAAAA8Bnr9qQr8ABdG5DEaVPOEAAAATQZqkSahBaJlMCHf//qmWAACVgAAAABNBnsJFESwv/wAC15LcpmPmIizzAAAAEAGe4XRCvwAD4tga2mUPn8AAAAAQAZ7jakK/AAPMz5jdDkhAeQAAABNBmuhJqEFsmUwId//+qZYAAJWBAAAAE0GfBkUVLC//AAQ2Pn0WK7i0f4MAAAAQAZ8ldEK/AAX6yruQ2VKy4QAAABABnydqQr8ABdG5DD6AkHvYAAAAEkGbLEmoQWyZTAhv//6nhAABJwAAABNBn0pFFSwv/wAC15LcpmPmIizzAAAAEAGfaXRCvwAD4tga2mUPn8AAAAAQAZ9rakK/AAPMz5jdDkhAeAAAABpBm21JqEFsmUwId//+qZYAA6SZCTcOCj6AcQAAABlBm5BJ4QpSZTAh3/6plgADqfEINn9/Tm8dAAAAEUGfrkU0TCv/AAYhm5rj3vYjAAAADwGfz2pCvwAGIJaVIoEsogAAABNBm9RJqEFomUwId//+qZYAAJWAAAAAE0Gf8kURLC//AALXktymY+YiLPMAAAAQAZ4RdEK/AAPLxZnlfkp5uAAAABABnhNqQr8AA8zPmN0OSEB4AAAAE0GaGEmoQWyZTAh3//6plgAAlYEAAAATQZ42RRUsL/8ABDY+fRYruLR/ggAAABABnlV0Qr8ABfrKu5DZUrLhAAAAEAGeV2pCvwAF0bkMPoCQe9kAAAAcQZpcSahBbJlMCHf//qmWAAJj8efzNCoFopiJUgAAABBBnnpFFSwv/wAC1ssVCEXxAAAAEAGemXRCvwAD4tga2mUPn8AAAAAPAZ6bakK/AAKPygeTBSKBAAAAGkGankmoQWyZTBRMO//+qZYAAmC/dtPRj9QRAAAAEAGevWpCvwADzM+Y3Q5IQHgAAAASQZqiSeEKUmUwId/+qZYAAJWAAAAAE0GewEU0TC//AAQ2Pn0WK7i0f4MAAAAQAZ7/dEK/AAX6yruQ2VKy4AAAABABnuFqQr8ABdG5DD6AkHvZAAAAE0Ga5kmoQWiZTAh3//6plgAAlYAAAAATQZ8ERREsL/8AAteS3KZj5iIs8wAAABABnyN0Qr8AA+LYGtplD5/BAAAAEAGfJWpCvwADzM+Y3Q5IQHkAAAATQZsqSahBbJlMCHf//qmWAACVgQAAABBBn0hFFSwv/wAC15Lc/XJjAAAAEAGfZ3RCvwAD4tga2mUPn8AAAAAQAZ9pakK/AAPMz5jdDkhAeQAAABNBm25JqEFsmUwId//+qZYAAJWAAAAAEEGfjEUVLC//AALXktz9cmMAAAAQAZ+rdEK/AAPi2BraZQ+fwQAAABABn61qQr8AA8zPmN0OSEB5AAAAE0GbskmoQWyZTAh3//6plgAAlYEAAAAQQZ/QRRUsL/8AAteS3P1yYwAAABABn+90Qr8AA+LYGtplD5/AAAAAEAGf8WpCvwADzM+Y3Q5IQHkAAAATQZv2SahBbJlMCHf//qmWAACVgAAAABBBnhRFFSwv/wAC15Lc/XJjAAAAEAGeM3RCvwAD4tga2mUPn8EAAAAQAZ41akK/AAPMz5jdDkhAeAAAABNBmjpJqEFsmUwId//+qZYAAJWBAAAAEEGeWEUVLC//AALXktz9cmMAAAAQAZ53dEK/AAPi2BraZQ+fwAAAABABnnlqQr8AA8zPmN0OSEB5AAAAE0GafkmoQWyZTAh3//6plgAAlYAAAAATQZ6cRRUsL/8ABDY+fRYruLR/gwAAABABnrt0Qr8ABfrKu5DZUrLhAAAAEAGevWpCvwAF0bkMPoCQe9gAAAATQZqiSahBbJlMCHf//qmWAACVgAAAABNBnsBFFSwv/wAC15LcpmPmIizzAAAAEAGe/3RCvwAD4tga2mUPn8AAAAAQAZ7hakK/AAPMz5jdDkhAeQAAABNBmuZJqEFsmUwId//+qZYAAJWAAAAAE0GfBEUVLC//AAQ2Pn0WK7i0f4MAAAAQAZ8jdEK/AAX6yruQ2VKy4QAAABABnyVqQr8ABdG5DD6AkHvZAAAAE0GbKkmoQWyZTAh3//6plgAAlYEAAAATQZ9IRRUsL/8AAteS3KZj5iIs8gAAABABn2d0Qr8AA+LYGtplD5/AAAAAEAGfaWpCvwADzM+Y3Q5IQHkAAAAcQZtuSahBbJlMCG///qeEAAS746fcyMLZihHSxAAAABVBn4xFFSwv/wAENx4+ixXbzXx5DBwAAAAQAZ+rdEK/AAX6yruQ2VKy4QAAABABn61qQr8ABdG3Iq8AUKOBAAAAGkGbr0moQWyZTAh3//6plgACUIsN0YhHPt+hAAAAGUGb0knhClJlMCHf/qmWAAJgUc60PV98xcAAAAARQZ/wRTRMK/8ABdM4pMah72AAAAAPAZ4RakK/AAXRuQxGlTzhAAAAE0GaFkmoQWiZTAh3//6plgAAlYAAAAATQZ40RREsL/8AAteS3KZj5iIs8gAAABABnlN0Qr8AA+LYGtplD5/BAAAAEAGeVWpCvwADzM+Y3Q5IQHgAAAATQZpaSahBbJlMCHf//qmWAACVgQAAABNBnnhFFSwv/wAENj59Fiu4tH+DAAAAEAGel3RCvwAF+sq7kNlSsuAAAAAQAZ6ZakK/AAXRuQw+gJB72QAAABNBmp5JqEFsmUwId//+qZYAAJWAAAAAE0GevEUVLC//AALXktymY+YiLPMAAAAQAZ7bdEK/AAPi2BraZQ+fwQAAABABnt1qQr8AA8zPmN0OSEB4AAAAEkGawkmoQWyZTAhv//6nhAABJwAAABNBnuBFFSwv/wAENj59Fiu4tH+DAAAAEAGfH3RCvwAF+sq7kNlSsuAAAAAQAZ8BakK/AAXRuQw+gJB72QAAABJBmwZJqEFsmUwIZ//+nhAABHwAAAATQZ8kRRUsL/8AAteS3KZj5iIs8wAAABABn0N0Qr8AA+LYGtplD5/BAAAAEAGfRWpCvwADzM+Y3Q5IQHkAAAAaQZtJS6hCEFskRggoB/IB/YeAIV/+OEAAEXEAAAAnQZ9nRRUsK/8Cr2PtQcTdqsNJJuWqhgcstbvNKiCaPF8CzTbRxUBgAAAAIwGfiGpCvwKvY+1BxN2qw0km5aqGByy1u80qIJo8aY0djtWAAAAMWG1vb3YAAABsbXZoZAAAAAAAAAAAAAAAAAAAA+gAAB+QAAEAAAEAAAAAAAAAAAAAAAABAAAAAAAAAAAAAAAAAAAAAQAAAAAAAAAAAAAAAAAAQAAAAAAAAAAAAAAAAAAAAAAAAAAAAAAAAAAAAAAAAAIAAAuCdHJhawAAAFx0a2hkAAAAAwAAAAAAAAAAAAAAAQAAAAAAAB+QAAAAAAAAAAAAAAAAAAAAAAABAAAAAAAAAAAAAAAAAAAAAQAAAAAAAAAAAAAAAAAAQAAAAAEQAAABEAAAAAAAJGVkdHMAAAAcZWxzdAAAAAAAAAABAAAfkAAABAAAAQAAAAAK+m1kaWEAAAAgbWRoZAAAAAAAAAAAAAAAAAAAMgAAAZQAVcQAAAAAAC1oZGxyAAAAAAAAAAB2aWRlAAAAAAAAAAAAAAAAVmlkZW9IYW5kbGVyAAAACqVtaW5mAAAAFHZtaGQAAAABAAAAAAAAAAAAAAAkZGluZgAAABxkcmVmAAAAAAAAAAEAAAAMdXJsIAAAAAEAAAplc3RibAAAAJVzdHNkAAAAAAAAAAEAAACFYXZjMQAAAAAAAAABAAAAAAAAAAAAAAAAAAAAAAEQARAASAAAAEgAAAAAAAAAAQAAAAAAAAAAAAAAAAAAAAAAAAAAAAAAAAAAAAAAAAAAABj//wAAAC9hdmNDAfQADf/hABdn9AANkZsoIhHQgAAAAwCAAAAZB4oUywEABWjr48RIAAAAGHN0dHMAAAAAAAAAAQAAAMoAAAIAAAAAFHN0c3MAAAAAAAAAAQAAAAEAAAYwY3R0cwAAAAAAAADEAAAAAQAABAAAAAABAAAGAAAAAAEAAAIAAAAAAQAACgAAAAABAAAEAAAAAAEAAAAAAAAAAQAAAgAAAAABAAAGAAAAAAEAAAIAAAAAAQAABAAAAAABAAAGAAAAAAEAAAIAAAAAAQAABAAAAAABAAAGAAAAAAEAAAIAAAAAAQAABgAAAAABAAACAAAAAAEAAAYAAAAAAQAAAgAAAAABAAAGAAAAAAEAAAIAAAAAAQAACgAAAAABAAAEAAAAAAEAAAAAAAAAAQAAAgAAAAABAAAKAAAAAAEAAAQAAAAAAQAAAAAAAAABAAACAAAAAAEAAAoAAAAAAQAABAAAAAABAAAAAAAAAAEAAAIAAAAAAQAACgAAAAABAAAEAAAAAAEAAAAAAAAAAQAAAgAAAAABAAAKAAAAAAEAAAQAAAAAAQAAAAAAAAABAAACAAAAAAEAAAoAAAAAAQAABAAAAAABAAAAAAAAAAEAAAIAAAAAAQAACgAAAAABAAAEAAAAAAEAAAAAAAAAAQAAAgAAAAABAAAKAAAAAAEAAAQAAAAAAQAAAAAAAAABAAACAAAAAAEAAAoAAAAAAQAABAAAAAABAAAAAAAAAAEAAAIAAAAAAQAACgAAAAABAAAEAAAAAAEAAAAAAAAAAQAAAgAAAAABAAAKAAAAAAEAAAQAAAAAAQAAAAAAAAABAAACAAAAAAEAAAoAAAAAAQAABAAAAAABAAAAAAAAAAEAAAIAAAAAAQAACgAAAAABAAAEAAAAAAEAAAAAAAAAAQAAAgAAAAABAAAEAAAAAAEAAAgAAAAAAgAAAgAAAAABAAAKAAAAAAEAAAQAAAAAAQAAAAAAAAABAAACAAAAAAEAAAQAAAAAAQAACAAAAAACAAACAAAAAAEAAAoAAAAAAQAABAAAAAABAAAAAAAAAAEAAAIAAAAAAQAACgAAAAABAAAEAAAAAAEAAAAAAAAAAQAAAgAAAAABAAAEAAAAAAEAAAgAAAAAAgAAAgAAAAABAAAKAAAAAAEAAAQAAAAAAQAAAAAAAAABAAACAAAAAAEAAAoAAAAAAQAABAAAAAABAAAAAAAAAAEAAAIAAAAAAQAACgAAAAABAAAEAAAAAAEAAAAAAAAAAQAAAgAAAAABAAAEAAAAAAEAAAgAAAAAAgAAAgAAAAABAAAKAAAAAAEAAAQAAAAAAQAAAAAAAAABAAACAAAAAAEAAAoAAAAAAQAABAAAAAABAAAAAAAAAAEAAAIAAAAAAQAACgAAAAABAAAEAAAAAAEAAAAAAAAAAQAAAgAAAAABAAAGAAAAAAEAAAIAAAAAAQAACgAAAAABAAAEAAAAAAEAAAAAAAAAAQAAAgAAAAABAAAKAAAAAAEAAAQAAAAAAQAAAAAAAAABAAACAAAAAAEAAAoAAAAAAQAABAAAAAABAAAAAAAAAAEAAAIAAAAAAQAACgAAAAABAAAEAAAAAAEAAAAAAAAAAQAAAgAAAAABAAAKAAAAAAEAAAQAAAAAAQAAAAAAAAABAAACAAAAAAEAAAoAAAAAAQAABAAAAAABAAAAAAAAAAEAAAIAAAAAAQAACgAAAAABAAAEAAAAAAEAAAAAAAAAAQAAAgAAAAABAAAKAAAAAAEAAAQAAAAAAQAAAAAAAAABAAACAAAAAAEAAAoAAAAAAQAABAAAAAABAAAAAAAAAAEAAAIAAAAAAQAACgAAAAABAAAEAAAAAAEAAAAAAAAAAQAAAgAAAAABAAAKAAAAAAEAAAQAAAAAAQAAAAAAAAABAAACAAAAAAEAAAoAAAAAAQAABAAAAAABAAAAAAAAAAEAAAIAAAAAAQAABAAAAAABAAAIAAAAAAIAAAIAAAAAAQAACgAAAAABAAAEAAAAAAEAAAAAAAAAAQAAAgAAAAABAAAKAAAAAAEAAAQAAAAAAQAAAAAAAAABAAACAAAAAAEAAAoAAAAAAQAABAAAAAABAAAAAAAAAAEAAAIAAAAAAQAACgAAAAABAAAEAAAAAAEAAAAAAAAAAQAAAgAAAAABAAAKAAAAAAEAAAQAAAAAAQAAAAAAAAABAAACAAAAAAEAAAgAAAAAAgAAAgAAAAAcc3RzYwAAAAAAAAABAAAAAQAAAMoAAAABAAADPHN0c3oAAAAAAAAAAAAAAMoAAAWBAAAAKQAAABQAAAAgAAAAGAAAABQAAAAUAAAAFgAAABQAAAAdAAAAIwAAABQAAAAcAAAAFwAAABMAAAAWAAAAFAAAABcAAAAUAAAAFwAAABQAAAAhAAAAFAAAABMAAAAUAAAAFwAAABQAAAAUAAAAFAAAABcAAAAUAAAAFAAAABQAAAAXAAAAFAAAABQAAAAUAAAAFwAAABQAAAAUAAAAFAAAABcAAAAUAAAAFAAAABQAAAAXAAAAFAAAABQAAAAUAAAAFwAAABQAAAAUAAAAFAAAABwAAAAXAAAAFAAAABQAAAAXAAAAFwAAABQAAAAUAAAAFwAAABcAAAAUAAAAFAAAABYAAAAXAAAAFAAAABQAAAAgAAAAFAAAABMAAAAUAAAAHgAAABwAAAAWAAAAEwAAABYAAAAXAAAAFAAAABQAAAAeAAAAHAAAABUAAAATAAAAFwAAABcAAAAUAAAAFAAAACAAAAAUAAAAEwAAABQAAAAeAAAAHAAAABYAAAATAAAAFwAAABcAAAAUAAAAFAAAABcAAAAXAAAAFAAAABQAAAAWAAAAFwAAABQAAAAUAAAAHgAAAB0AAAAVAAAAEwAAABcAAAAXAAAAFAAAABQAAAAXAAAAFwAAABQAAAAUAAAAIAAAABQAAAAUAAAAEwAAAB4AAAAUAAAAFgAAABcAAAAUAAAAFAAAABcAAAAXAAAAFAAAABQAAAAXAAAAFAAAABQAAAAUAAAAFwAAABQAAAAUAAAAFAAAABcAAAAUAAAAFAAAABQAAAAXAAAAFAAAABQAAAAUAAAAFwAAABQAAAAUAAAAFAAAABcAAAAXAAAAFAAAABQAAAAXAAAAFwAAABQAAAAUAAAAFwAAABcAAAAUAAAAFAAAABcAAAAXAAAAFAAAABQAAAAgAAAAGQAAABQAAAAUAAAAHgAAAB0AAAAVAAAAEwAAABcAAAAXAAAAFAAAABQAAAAXAAAAFwAAABQAAAAUAAAAFwAAABcAAAAUAAAAFAAAABYAAAAXAAAAFAAAABQAAAAWAAAAFwAAABQAAAAUAAAAHgAAACsAAAAnAAAAFHN0Y28AAAAAAAAAAQAAADAAAABidWR0YQAAAFptZXRhAAAAAAAAACFoZGxyAAAAAAAAAABtZGlyYXBwbAAAAAAAAAAAAAAAAC1pbHN0AAAAJal0b28AAAAdZGF0YQAAAAEAAAAATGF2ZjU4LjI2LjEwMQ==\" type=\"video/mp4\" />\n",
       "             </video>"
      ],
      "text/plain": [
       "<IPython.core.display.HTML object>"
      ]
     },
     "execution_count": 28,
     "metadata": {},
     "output_type": "execute_result"
    }
   ],
   "source": [
    "env = Environment(grid_size=size, max_time=T, temperature=0.3)\n",
    "agent = DQN_CNN(size, lr=.1, epsilon = 0.1, memory_size=2000, batch_size = 32)\n",
    "train(agent,env,epochs_train,prefix='cnn_train')\n",
    "HTML(display_videos('cnn_train10.mp4'))"
   ]
  },
  {
   "cell_type": "markdown",
   "metadata": {},
   "source": [
    "***\n",
    "***\n",
    "__Question 9__ Test both algorithms and compare their performances. Which issue(s) do you observe? Observe also different behaviors by changing the temperature."
   ]
  },
  {
   "cell_type": "code",
   "execution_count": 29,
   "metadata": {},
   "outputs": [
    {
     "name": "stdout",
     "output_type": "stream",
     "text": [
      "Test of the CNN\n",
      "Win/lose count 1.0/1.0. Average score (0.0)\n",
      "Win/lose count 2.5/0. Average score (1.25)\n",
      "Win/lose count 0/0. Average score (0.8333333333333334)\n",
      "Win/lose count 1.5/0. Average score (1.0)\n",
      "Win/lose count 1.5/0. Average score (1.1)\n",
      "Win/lose count 0.5/0. Average score (1.0)\n",
      "Win/lose count 5.0/0. Average score (1.5714285714285714)\n",
      "Win/lose count 1.0/0. Average score (1.5)\n",
      "Win/lose count 1.0/0. Average score (1.4444444444444444)\n",
      "Win/lose count 2.5/0. Average score (1.55)\n",
      "Win/lose count 4.0/0. Average score (1.7727272727272727)\n",
      "Win/lose count 1.0/1.0. Average score (1.625)\n",
      "Win/lose count 1.0/0. Average score (1.5769230769230769)\n",
      "Win/lose count 3.0/1.0. Average score (1.6071428571428572)\n",
      "Win/lose count 1.0/0. Average score (1.5666666666666667)\n",
      "Final score: 1.5666666666666667\n",
      "Test of the FC\n",
      "Win/lose count 0.5/0. Average score (0.5)\n",
      "Win/lose count 0/0. Average score (0.25)\n",
      "Win/lose count 1.0/1.0. Average score (0.16666666666666666)\n",
      "Win/lose count 0.5/0. Average score (0.25)\n",
      "Win/lose count 0.5/0. Average score (0.3)\n",
      "Win/lose count 0/3.0. Average score (-0.25)\n",
      "Win/lose count 1.5/2.0. Average score (-0.2857142857142857)\n",
      "Win/lose count 0.5/0. Average score (-0.1875)\n",
      "Win/lose count 0.5/1.0. Average score (-0.2222222222222222)\n",
      "Win/lose count 0/1.0. Average score (-0.3)\n",
      "Win/lose count 0.5/1.0. Average score (-0.3181818181818182)\n",
      "Win/lose count 0/2.0. Average score (-0.4583333333333333)\n",
      "Win/lose count 1.0/1.0. Average score (-0.4230769230769231)\n",
      "Win/lose count 0.5/0. Average score (-0.35714285714285715)\n",
      "Win/lose count 1.0/1.0. Average score (-0.3333333333333333)\n",
      "Final score: -0.3333333333333333\n"
     ]
    }
   ],
   "source": [
    "env = Environment(grid_size=size, max_time=T,temperature=0.3)\n",
    "agent_cnn = DQN_CNN(size, lr=.1, epsilon = 0.1, memory_size=2000, batch_size = 32)\n",
    "agent_cnn.load(name_weights='cnn_trainmodel.h5',name_model='cnn_trainmodel.json')\n",
    "\n",
    "agent_fc = DQN_FC(size, lr=.1, epsilon = 0.1, memory_size=2000, batch_size = 32)\n",
    "agent_cnn.load(name_weights='fc_trainmodel.h5',name_model='fc_trainmodel.json')\n",
    "print('Test of the CNN')\n",
    "test(agent_cnn,env,epochs_test,prefix='cnn_test')\n",
    "print('Test of the FC')\n",
    "test(agent_fc,env,epochs_test,prefix='fc_test')"
   ]
  },
  {
   "cell_type": "code",
   "execution_count": 30,
   "metadata": {},
   "outputs": [
    {
     "data": {
      "text/html": [
       "<video alt=\"test\" controls>\n",
       "                <source src=\"data:video/mp4;base64,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\" type=\"video/mp4\" />\n",
       "             </video>"
      ],
      "text/plain": [
       "<IPython.core.display.HTML object>"
      ]
     },
     "execution_count": 30,
     "metadata": {},
     "output_type": "execute_result"
    }
   ],
   "source": [
    "HTML(display_videos('cnn_test10.mp4'))"
   ]
  },
  {
   "cell_type": "code",
   "execution_count": 31,
   "metadata": {},
   "outputs": [
    {
     "data": {
      "text/html": [
       "<video alt=\"test\" controls>\n",
       "                <source src=\"data:video/mp4;base64,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\" type=\"video/mp4\" />\n",
       "             </video>"
      ],
      "text/plain": [
       "<IPython.core.display.HTML object>"
      ]
     },
     "execution_count": 31,
     "metadata": {},
     "output_type": "execute_result"
    }
   ],
   "source": [
    "HTML(display_videos('fc_test10.mp4'))"
   ]
  },
  {
   "cell_type": "markdown",
   "metadata": {},
   "source": [
    "We can see in both algorithms the rat tend to not explore the whole map and stays in same place for there isn't any penalty to this behaviour. Howerver the CNN perfoms better than the fully connected layers. Increasing the temperature has a positive impact on the score since it inscreases bonuses and decreases bonuses on the map."
   ]
  },
  {
   "cell_type": "markdown",
   "metadata": {},
   "source": [
    "***\n",
    "\n",
    "The algorithm tends to not explore the map which can be an issue. We propose two ideas in order to encourage exploration:\n",
    "1. Incorporating a decreasing $\\epsilon$-greedy exploration. You can use the method ```set_epsilon```\n",
    "2. Append via the environment a new state that describes if a cell has been visited or not\n",
    "\n",
    "***\n",
    "__Question 10__ Design a new ```train_explore``` function and environment class ```EnvironmentExploring``` to tackle the issue of exploration.\n",
    "\n"
   ]
  },
  {
   "cell_type": "code",
   "execution_count": 44,
   "metadata": {},
   "outputs": [],
   "source": [
    "def train_explore(agent,env,epoch,prefix=''):\n",
    "    score = 0\n",
    "    loss = 0\n",
    "\n",
    "    for e in range(epoch):\n",
    "        # At each epoch, we restart to a fresh game and get the initial state\n",
    "        state = env.reset()\n",
    "        # This assumes that the games will terminate\n",
    "        game_over = False\n",
    "\n",
    "        win = 0\n",
    "        lose = 0\n",
    "        while not game_over:\n",
    "            # The agent performs an action\n",
    "            action = agent.act(state)\n",
    "            # Apply an action to the environment, get the next state, the reward\n",
    "            # and if the games end\n",
    "            prev_state = state\n",
    "            state, reward, game_over = env.act(action)\n",
    "            # Update the counters\n",
    "            if reward > 0:\n",
    "                win = win + reward\n",
    "            if reward < -0.1:\n",
    "                lose = lose -reward\n",
    "            # Apply the reinforcement strategy\n",
    "            loss = agent.reinforce(prev_state, state,  action, reward, game_over)\n",
    "\n",
    "        # Save as a mp4\n",
    "        if e % 10 == 0:\n",
    "            env.draw(prefix+str(e))\n",
    "\n",
    "        # Update stats\n",
    "        score += win-lose\n",
    "\n",
    "        print(\"Epoch {:03d}/{:03d} | Loss {:.4f} | Win/lose count {}/{} ({})\"\n",
    "              .format(e, epoch, loss, win, lose, win-lose))\n",
    "        agent.save(name_weights=prefix+'model.h5',name_model=prefix+'model.json')\n",
    "        \n",
    "        \n",
    "class EnvironmentExploring(object):\n",
    "    def __init__(self, grid_size=10, max_time=500, temperature=0.1):\n",
    "        grid_size = grid_size+4\n",
    "        self.grid_size = grid_size\n",
    "        self.max_time = max_time\n",
    "        self.temperature = temperature\n",
    "\n",
    "        #board on which one plays\n",
    "        self.board = np.zeros((grid_size,grid_size))\n",
    "        self.position = np.zeros((grid_size,grid_size))\n",
    "        self.malus_position = np.zeros((grid_size,grid_size))\n",
    "\n",
    "        # coordinate of the cat\n",
    "        self.x = 0\n",
    "        self.y = 1\n",
    "\n",
    "        # self time\n",
    "        self.t = 0\n",
    "\n",
    "        self.scale=16\n",
    "\n",
    "        self.to_draw = np.zeros((max_time+2, grid_size*self.scale, grid_size*self.scale, 3))\n",
    "\n",
    "\n",
    "    def draw(self,e):\n",
    "        skvideo.io.vwrite(str(e) + '.mp4', self.to_draw)\n",
    "\n",
    "    def get_frame(self,t):\n",
    "        b = np.zeros((self.grid_size,self.grid_size,3))+128\n",
    "        b[self.board>0,0] = 256\n",
    "        b[self.board < 0, 2] = 256\n",
    "        b[self.x,self.y,:]=256\n",
    "        b[-2:,:,:]=0\n",
    "        b[:,-2:,:]=0\n",
    "        b[:2,:,:]=0\n",
    "        b[:,:2,:]=0\n",
    "        \n",
    "        b =  cv2.resize(b, None, fx=self.scale, fy=self.scale, interpolation=cv2.INTER_NEAREST)\n",
    "\n",
    "        self.to_draw[t,:,:,:]=b\n",
    "\n",
    "\n",
    "    def act(self, action, train = False):\n",
    "        #This function returns the new state, reward and decides if the\n",
    "        #game ends.\n",
    "\n",
    "        self.get_frame(int(self.t))\n",
    "\n",
    "        self.position = np.zeros((self.grid_size, self.grid_size))\n",
    "\n",
    "        self.position[0:2,:]= -1\n",
    "        self.position[:,0:2] = -1\n",
    "        self.position[-2:, :] = -1\n",
    "        self.position[-2:, :] = -1\n",
    "\n",
    "        self.position[self.x, self.y] = 1\n",
    "        if action == 0:\n",
    "            if self.x == self.grid_size-3:\n",
    "                self.x = self.x-1\n",
    "            else:\n",
    "                self.x = self.x + 1\n",
    "        elif action == 1:\n",
    "            if self.x == 2:\n",
    "                self.x = self.x+1\n",
    "            else:\n",
    "                self.x = self.x-1\n",
    "        elif action == 2:\n",
    "            if self.y == self.grid_size - 3:\n",
    "                self.y = self.y - 1\n",
    "            else:\n",
    "                self.y = self.y + 1\n",
    "        elif action == 3:\n",
    "            if self.y == 2:\n",
    "                self.y = self.y + 1\n",
    "            else:\n",
    "                self.y = self.y - 1\n",
    "        else:\n",
    "            RuntimeError('Error: action not recognized')\n",
    "        reward = 0\n",
    "        if train:\n",
    "            reward = -self.malus_position[self.x, self.y]\n",
    "        self.malus_position[self.x, self.y] = 0.1\n",
    "\n",
    "        reward = reward + self.board[self.x, self.y]\n",
    "        # 3 \"feature\" states instead of 2\n",
    "        state = np.concatenate((self.malus_position.reshape(self.grid_size, self.grid_size,1),\\\n",
    "                                self.board.reshape(self.grid_size, self.grid_size,1),\\\n",
    "                        self.position.reshape(self.grid_size, self.grid_size,1)),axis=2)\n",
    "        self.t = self.t + 1\n",
    "        self.board[self.x, self.y] = 0\n",
    "        game_over = self.t > self.max_time\n",
    "        state = state[self.x-2:self.x+3,self.y-2:self.y+3,:]\n",
    "\n",
    "        return state, reward, game_over\n",
    "\n",
    "    def reset(self):\n",
    "        #This function resets the game and returns the initial state\n",
    "\n",
    "        self.x = np.random.randint(3, self.grid_size-3, size=1)[0]\n",
    "        self.y = np.random.randint(3, self.grid_size-3, size=1)[0]\n",
    "\n",
    "\n",
    "        bonus = 0.5*np.random.binomial(1,self.temperature,size=self.grid_size**2)\n",
    "        bonus = bonus.reshape(self.grid_size,self.grid_size)\n",
    "\n",
    "        malus = -1.0*np.random.binomial(1,self.temperature,size=self.grid_size**2)\n",
    "        malus = malus.reshape(self.grid_size, self.grid_size)\n",
    "\n",
    "        self.to_draw = np.zeros((self.max_time+2, self.grid_size*self.scale, self.grid_size*self.scale, 3))\n",
    "\n",
    "\n",
    "        malus[bonus>0]=0\n",
    "\n",
    "        self.board = bonus + malus\n",
    "\n",
    "        self.position = np.zeros((self.grid_size, self.grid_size))\n",
    "        self.position[0:2,:]= -1\n",
    "        self.position[:,0:2] = -1\n",
    "        self.position[-2:, :] = -1\n",
    "        self.position[-2:, :] = -1\n",
    "        self.board[self.x,self.y] = 0\n",
    "        self.malus_position[self.x, self.y] = 0.1\n",
    "        self.t = 0\n",
    "        \n",
    "        state = np.concatenate((self.malus_position.reshape(self.grid_size, self.grid_size,1),\\\n",
    "                                self.board.reshape(self.grid_size, self.grid_size,1),\\\n",
    "                        self.position.reshape(self.grid_size, self.grid_size,1)),axis=2)\n",
    "        \n",
    "        state = state[self.x - 2:self.x + 3, self.y - 2:self.y + 3, :]\n",
    "        return state"
   ]
  },
  {
   "cell_type": "code",
   "execution_count": 45,
   "metadata": {},
   "outputs": [
    {
     "name": "stdout",
     "output_type": "stream",
     "text": [
      "Epoch 000/020 | Loss 0.0017 | Win/lose count 4.0/2.0 (2.0)\n",
      "Epoch 001/020 | Loss 0.0047 | Win/lose count 3.0/1.0 (2.0)\n",
      "Epoch 002/020 | Loss 0.0091 | Win/lose count 2.0/6.0 (-4.0)\n",
      "Epoch 003/020 | Loss 0.0094 | Win/lose count 4.0/5.0 (-1.0)\n",
      "Epoch 004/020 | Loss 0.0029 | Win/lose count 3.5/5.0 (-1.5)\n",
      "Epoch 005/020 | Loss 0.0075 | Win/lose count 2.5/2.0 (0.5)\n",
      "Epoch 006/020 | Loss 0.0034 | Win/lose count 4.0/4.0 (0.0)\n",
      "Epoch 007/020 | Loss 0.0024 | Win/lose count 2.0/3.0 (-1.0)\n",
      "Epoch 008/020 | Loss 0.0030 | Win/lose count 4.5/4.0 (0.5)\n",
      "Epoch 009/020 | Loss 0.0072 | Win/lose count 4.0/4.0 (0.0)\n",
      "Epoch 010/020 | Loss 0.0020 | Win/lose count 8.0/6.0 (2.0)\n",
      "Epoch 011/020 | Loss 0.0011 | Win/lose count 4.5/5.0 (-0.5)\n",
      "Epoch 012/020 | Loss 0.0078 | Win/lose count 6.5/1.0 (5.5)\n",
      "Epoch 013/020 | Loss 0.0066 | Win/lose count 5.5/2.0 (3.5)\n",
      "Epoch 014/020 | Loss 0.0091 | Win/lose count 3.0/1.0 (2.0)\n",
      "Epoch 015/020 | Loss 0.0033 | Win/lose count 7.5/2.0 (5.5)\n",
      "Epoch 016/020 | Loss 0.0203 | Win/lose count 6.0/5.0 (1.0)\n",
      "Epoch 017/020 | Loss 0.0085 | Win/lose count 4.0/4.0 (0.0)\n",
      "Epoch 018/020 | Loss 0.0053 | Win/lose count 4.5/6.0 (-1.5)\n",
      "Epoch 019/020 | Loss 0.0020 | Win/lose count 2.5/0 (2.5)\n"
     ]
    },
    {
     "data": {
      "text/html": [
       "<video alt=\"test\" controls>\n",
       "                <source src=\"data:video/mp4;base64,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\" type=\"video/mp4\" />\n",
       "             </video>"
      ],
      "text/plain": [
       "<IPython.core.display.HTML object>"
      ]
     },
     "execution_count": 45,
     "metadata": {},
     "output_type": "execute_result"
    }
   ],
   "source": [
    "# Training\n",
    "env = EnvironmentExploring(grid_size=size, max_time=T, temperature=0.3)\n",
    "agent = DQN_CNN(size, lr=.1, epsilon = 0.1, memory_size=2000, batch_size = 32,n_state=3)\n",
    "train_explore(agent, env, epochs_train, prefix='cnn_train_explore')\n",
    "HTML(display_videos('cnn_train_explore10.mp4'))"
   ]
  },
  {
   "cell_type": "code",
   "execution_count": 46,
   "metadata": {},
   "outputs": [
    {
     "name": "stdout",
     "output_type": "stream",
     "text": [
      "Win/lose count 5.5/0. Average score (5.5)\n",
      "Win/lose count 0/0. Average score (2.75)\n",
      "Win/lose count 3.0/0. Average score (2.8333333333333335)\n",
      "Win/lose count 1.0/0. Average score (2.375)\n",
      "Win/lose count 4.0/1.0. Average score (2.5)\n",
      "Win/lose count 1.5/4.0. Average score (1.6666666666666667)\n",
      "Win/lose count 4.5/2.0. Average score (1.7857142857142858)\n",
      "Win/lose count 0.5/1.0. Average score (1.5)\n",
      "Win/lose count 0.5/0. Average score (1.3888888888888888)\n",
      "Win/lose count 4.0/2.0. Average score (1.45)\n",
      "Win/lose count 1.5/1.0. Average score (1.3636363636363635)\n",
      "Win/lose count 2.0/0. Average score (1.4166666666666667)\n",
      "Win/lose count 3.5/1.0. Average score (1.5)\n",
      "Win/lose count 2.0/0. Average score (1.5357142857142858)\n",
      "Win/lose count 3.0/0. Average score (1.6333333333333333)\n",
      "Win/lose count 2.0/0. Average score (1.65625)\n",
      "Win/lose count 0/0. Average score (1.5588235294117647)\n",
      "Win/lose count 2.0/0. Average score (1.5833333333333333)\n",
      "Win/lose count 4.5/0. Average score (1.736842105263158)\n",
      "Win/lose count 1.5/0. Average score (1.725)\n",
      "Final score: 1.725\n"
     ]
    },
    {
     "data": {
      "text/html": [
       "<video alt=\"test\" controls>\n",
       "                <source src=\"data:video/mp4;base64,AAAAIGZ0eXBpc29tAAACAGlzb21pc28yYXZjMW1wNDEAAAAIZnJlZQAAFTZtZGF0AAACrQYF//+p3EXpvebZSLeWLNgg2SPu73gyNjQgLSBjb3JlIDE1NyByMjkzNSA1NDVkZTJmIC0gSC4yNjQvTVBFRy00IEFWQyBjb2RlYyAtIENvcHlsZWZ0IDIwMDMtMjAxOCAtIGh0dHA6Ly93d3cudmlkZW9sYW4ub3JnL3gyNjQuaHRtbCAtIG9wdGlvbnM6IGNhYmFjPTEgcmVmPTMgZGVibG9jaz0xOjA6MCBhbmFseXNlPTB4MToweDExMSBtZT1oZXggc3VibWU9NyBwc3k9MSBwc3lfcmQ9MS4wMDowLjAwIG1peGVkX3JlZj0xIG1lX3JhbmdlPTE2IGNocm9tYV9tZT0xIHRyZWxsaXM9MSA4eDhkY3Q9MCBjcW09MCBkZWFkem9uZT0yMSwxMSBmYXN0X3Bza2lwPTEgY2hyb21hX3FwX29mZnNldD00IHRocmVhZHM9NiBsb29rYWhlYWRfdGhyZWFkcz0xIHNsaWNlZF90aHJlYWRzPTAgbnI9MCBkZWNpbWF0ZT0xIGludGVybGFjZWQ9MCBibHVyYXlfY29tcGF0PTAgY29uc3RyYWluZWRfaW50cmE9MCBiZnJhbWVzPTMgYl9weXJhbWlkPTIgYl9hZGFwdD0xIGJfYmlhcz0wIGRpcmVjdD0xIHdlaWdodGI9MSBvcGVuX2dvcD0wIHdlaWdodHA9MiBrZXlpbnQ9MjUwIGtleWludF9taW49MjUgc2NlbmVjdXQ9NDAgaW50cmFfcmVmcmVzaD0wIHJjX2xvb2thaGVhZD00MCByYz1jcmYgbWJ0cmVlPTEgY3JmPTIzLjAgcWNvbXA9MC42MCBxcG1pbj0wIHFwbWF4PTY5IHFwc3RlcD00IGlwX3JhdGlvPTEuNDAgYXE9MToxLjAwAIAAAAL5ZYiEADP//vaG+BTYUyP+T7/8I/+5H7cfWfrixkIJvrVeQ9GAMl8a/5lGYaXpyc8t7R+vTNAEZz6HlLJIofgUkwDfMsjnE+J8s6FP3lFrFWUnapilQooJthtp0b3Iay1tP3unRr2c6B/EuEo6BWCQWkpcYSKFqjxUNfFQddKhONohZj8jgya80HkWVQo3H1FbQm5V8sVwb1gFeqk6XpgkgpNYWHwn+hTK7/CWw/ZW8fm2jSGwNWnhdsDz4P4HkjG7iyviGEVQRgfvzS0sUoBYAtYpSPmfxsHU5YB5wQ7UoGnLVhewkWfoc6C/wKwi2iKL2GPJh1ucB2g7qqwEuKOBO+gMUvNKMSOldvH86e6j/MpqyICc8aKsTDvREMhME15yr9jwiJz6BdrVFcUIoi6hIfIfs3QTnB81nXshiCxNeNUaDBYQifODJtiJHFwcSD+Vz9FUSuLjDgRhgpudRVg5Ehp+5gKeIFfWRkfaYlvAKMpTSKK3UYyDadlHENvLRsQObFHKy2czIe8jso5iWPUvZ+TLxGfIEc1C1nriwTCQCGsqNILpRgJrhIqxm369AKqc4HId62QYFebPfE/5/n9np35nr4wV+V0ZAMb+G97thzCnJfJ/zMIoWWJEuM3iQMyeEK/nESSO0Zi80a4schjgMST5Rd6w41ebQqG75xEr+77+mc1o4pvD2QGG2Ypiy2calhSwoIT+tGllL2y/0sDxD4Ht1LUlEVIznojpCaupxzNAK7rsHd3TgnN7BetqHCLELCxIwWRdhxmMiVnhVGhEV8Cw0DijBVlTkmgm7lPKO3Rb+0H2OGst4r0i+f1gJHehg4cK5J1hqJVghn3NP1BjtR1GOFX/O2xganndBrzcbA0UcHax8nQhR4tkuFSmt+kQK9p4xcEq53VPc8m1GLksfzdI9830SNd+WWYnAzZopkcBFvs/kaPyFqZAJsq9wsndb2K/yX2zTbd31vdZmCyVLhXigNp7vHKS2tybGOkXLdXVwKUipkAAETEAAAAUQZohbEN//qeEADI8NZtjrlNK44AAAAAZQZpCPCGTKYQ3//6nhAAzbq0ghKaH9GvUgQAAABlBmmNJ4Q8mUwId//6plgAaiCystJMv5KBAAAAAHkGahknhDyZTAh3//qmWACu+7FzLLPn25dDjY1w/gQAAABJBnqRFETwr/wBFdob/Ybzsqi8AAAAPAZ7FakK/AEV2eW4bNqcbAAAAF0GaykmoQWiZTAh3//6plgAqXyDNAI8dAAAADkGe6EURLC//ADJCLbUgAAAADwGfB3RCvwBElSOI7LsrUwAAAA8BnwlqQr8ARJUjdZ6s9j8AAAATQZsOSahBbJlMCHf//qmWAACVgAAAAAxBnyxFFSwv/wAAsoAAAAAPAZ9LdEK/AESVI4jsuytTAAAADwGfTWpCvwBElSN1nqz2PwAAABNBm1JJqEFsmUwId//+qZYAAJWBAAAADEGfcEUVLC//AACygAAAAA8Bn490Qr8ARJUjiOy7K1MAAAAPAZ+RakK/AESVI3WerPY/AAAAE0GblkmoQWyZTAh3//6plgAAlYAAAAAMQZ+0RRUsL/8AALKAAAAADwGf03RCvwBElSOI7LsrUwAAAA8Bn9VqQr8ARJUjdZ6s9j4AAAATQZvaSahBbJlMCHf//qmWAACVgQAAAAxBn/hFFSwv/wAAsoEAAAAPAZ4XdEK/AESVI4jsuytTAAAADwGeGWpCvwBElSN1nqz2PwAAABNBmh5JqEFsmUwId//+qZYAAJWAAAAADEGePEUVLC//AACygQAAAA8Bnlt0Qr8ARJUjiOy7K1MAAAAPAZ5dakK/AESVI3WerPY+AAAAE0GaQkmoQWyZTAh3//6plgAAlYAAAAAMQZ5gRRUsL/8AALKBAAAADwGen3RCvwBElSOI7LsrUwAAAA8BnoFqQr8ARJUjdZ6s9j8AAAATQZqGSahBbJlMCHf//qmWAACVgAAAAAxBnqRFFSwv/wAAsoEAAAAPAZ7DdEK/AESVI4jsuytTAAAADwGexWpCvwBElSN1nqz2PwAAABNBmspJqEFsmUwId//+qZYAAJWBAAAADEGe6EUVLC//AACygAAAAA8Bnwd0Qr8ARJUjiOy7K1MAAAAPAZ8JakK/AESVI3WerPY/AAAAE0GbDkmoQWyZTAh3//6plgAAlYAAAAAMQZ8sRRUsL/8AALKAAAAADwGfS3RCvwBElSOI7LsrUwAAAA8Bn01qQr8ARJUjdZ6s9j8AAAATQZtSSahBbJlMCHf//qmWAACVgQAAAAxBn3BFFSwv/wAAsoAAAAAPAZ+PdEK/AESVI4jsuytTAAAADwGfkWpCvwBElSN1nqz2PwAAABNBm5ZJqEFsmUwId//+qZYAAJWAAAAADEGftEUVLC//AACygAAAAA8Bn9N0Qr8ARJUjiOy7K1MAAAAPAZ/VakK/AESVI3WerPY+AAAAE0Gb2kmoQWyZTAh3//6plgAAlYEAAAAMQZ/4RRUsL/8AALKBAAAADwGeF3RCvwBElSOI7LsrUwAAAA8BnhlqQr8ARJUjdZ6s9j8AAAATQZoeSahBbJlMCHf//qmWAACVgAAAAAxBnjxFFSwv/wAAsoEAAAAPAZ5bdEK/AESVI4jsuytTAAAADwGeXWpCvwBElSN1nqz2PgAAABNBmkJJqEFsmUwId//+qZYAAJWAAAAADEGeYEUVLC//AACygQAAAA8Bnp90Qr8ARJUjiOy7K1MAAAAPAZ6BakK/AESVI3WerPY/AAAAE0GahkmoQWyZTAh3//6plgAAlYAAAAAMQZ6kRRUsL/8AALKBAAAADwGew3RCvwBElSOI7LsrUwAAAA8BnsVqQr8ARJUjdZ6s9j8AAAATQZrKSahBbJlMCHf//qmWAACVgQAAAAxBnuhFFSwv/wAAsoAAAAAPAZ8HdEK/AESVI4jsuytTAAAADwGfCWpCvwBElSN1nqz2PwAAABNBmw5JqEFsmUwId//+qZYAAJWAAAAADEGfLEUVLC//AACygAAAAA8Bn0t0Qr8ARJUjiOy7K1MAAAAPAZ9NakK/AESVI3WerPY/AAAAE0GbUkmoQWyZTAh3//6plgAAlYEAAAAMQZ9wRRUsL/8AALKAAAAADwGfj3RCvwBElSOI7LsrUwAAAA8Bn5FqQr8ARJUjdZ6s9j8AAAATQZuWSahBbJlMCHf//qmWAACVgAAAAAxBn7RFFSwv/wAAsoAAAAAPAZ/TdEK/AESVI4jsuytTAAAADwGf1WpCvwBElSN1nqz2PgAAABNBm9pJqEFsmUwId//+qZYAAJWBAAAADEGf+EUVLC//AACygQAAAA8Bnhd0Qr8ARJUjiOy7K1MAAAAPAZ4ZakK/AESVI3WerPY/AAAAE0GaHkmoQWyZTAh3//6plgAAlYAAAAAMQZ48RRUsL/8AALKBAAAADwGeW3RCvwBElSOI7LsrUwAAAA8Bnl1qQr8ARJUjdZ6s9j4AAAATQZpCSahBbJlMCHf//qmWAACVgAAAAAxBnmBFFSwv/wAAsoEAAAAPAZ6fdEK/AESVI4jsuytTAAAADwGegWpCvwBElSN1nqz2PwAAABNBmoZJqEFsmUwId//+qZYAAJWAAAAADEGepEUVLC//AACygQAAAA8BnsN0Qr8ARJUjiOy7K1MAAAAPAZ7FakK/AESVI3WerPY/AAAAE0GaykmoQWyZTAh3//6plgAAlYEAAAAMQZ7oRRUsL/8AALKAAAAADwGfB3RCvwBElSOI7LsrUwAAAA8BnwlqQr8ARJUjdZ6s9j8AAAATQZsOSahBbJlMCHf//qmWAACVgAAAAAxBnyxFFSwv/wAAsoAAAAAPAZ9LdEK/AESVI4jsuytTAAAADwGfTWpCvwBElSN1nqz2PwAAABNBm1JJqEFsmUwId//+qZYAAJWBAAAADEGfcEUVLC//AACygAAAAA8Bn490Qr8ARJUjiOy7K1MAAAAPAZ+RakK/AESVI3WerPY/AAAAE0GblkmoQWyZTAh3//6plgAAlYAAAAAMQZ+0RRUsL/8AALKAAAAADwGf03RCvwBElSOI7LsrUwAAAA8Bn9VqQr8ARJUjdZ6s9j4AAAATQZvaSahBbJlMCHf//qmWAACVgQAAAAxBn/hFFSwv/wAAsoEAAAAPAZ4XdEK/AESVI4jsuytTAAAADwGeGWpCvwBElSN1nqz2PwAAABNBmh5JqEFsmUwId//+qZYAAJWAAAAADEGePEUVLC//AACygQAAAA8Bnlt0Qr8ARJUjiOy7K1MAAAAPAZ5dakK/AESVI3WerPY+AAAAE0GaQkmoQWyZTAh3//6plgAAlYAAAAAMQZ5gRRUsL/8AALKBAAAADwGen3RCvwBElSOI7LsrUwAAAA8BnoFqQr8ARJUjdZ6s9j8AAAATQZqGSahBbJlMCHf//qmWAACVgAAAAAxBnqRFFSwv/wAAsoEAAAAPAZ7DdEK/AESVI4jsuytTAAAADwGexWpCvwBElSN1nqz2PwAAABNBmspJqEFsmUwId//+qZYAAJWBAAAADEGe6EUVLC//AACygAAAAA8Bnwd0Qr8ARJUjiOy7K1MAAAAPAZ8JakK/AESVI3WerPY/AAAAE0GbDkmoQWyZTAh3//6plgAAlYAAAAAMQZ8sRRUsL/8AALKAAAAADwGfS3RCvwBElSOI7LsrUwAAAA8Bn01qQr8ARJUjdZ6s9j8AAAATQZtSSahBbJlMCHf//qmWAACVgQAAAAxBn3BFFSwv/wAAsoAAAAAPAZ+PdEK/AESVI4jsuytTAAAADwGfkWpCvwBElSN1nqz2PwAAABNBm5ZJqEFsmUwId//+qZYAAJWAAAAADEGftEUVLC//AACygAAAAA8Bn9N0Qr8ARJUjiOy7K1MAAAAPAZ/VakK/AESVI3WerPY+AAAAE0Gb2kmoQWyZTAh3//6plgAAlYEAAAAMQZ/4RRUsL/8AALKBAAAADwGeF3RCvwBElSOI7LsrUwAAAA8BnhlqQr8ARJUjdZ6s9j8AAAATQZoeSahBbJlMCHf//qmWAACVgAAAAAxBnjxFFSwv/wAAsoEAAAAPAZ5bdEK/AESVI4jsuytTAAAADwGeXWpCvwBElSN1nqz2PgAAABNBmkJJqEFsmUwId//+qZYAAJWAAAAADEGeYEUVLC//AACygQAAAA8Bnp90Qr8ARJUjiOy7K1MAAAAPAZ6BakK/AESVI3WerPY/AAAAE0GahkmoQWyZTAh3//6plgAAlYAAAAAMQZ6kRRUsL/8AALKBAAAADwGew3RCvwBElSOI7LsrUwAAAA8BnsVqQr8ARJUjdZ6s9j8AAAATQZrKSahBbJlMCHf//qmWAACVgQAAAAxBnuhFFSwv/wAAsoAAAAAPAZ8HdEK/AESVI4jsuytTAAAADwGfCWpCvwBElSN1nqz2PwAAABNBmw5JqEFsmUwId//+qZYAAJWAAAAADEGfLEUVLC//AACygAAAAA8Bn0t0Qr8ARJUjiOy7K1MAAAAPAZ9NakK/AESVI3WerPY/AAAAE0GbUkmoQWyZTAh3//6plgAAlYEAAAAMQZ9wRRUsL/8AALKAAAAADwGfj3RCvwBElSOI7LsrUwAAAA8Bn5FqQr8ARJUjdZ6s9j8AAAATQZuWSahBbJlMCHf//qmWAACVgAAAAAxBn7RFFSwv/wAAsoAAAAAPAZ/TdEK/AESVI4jsuytTAAAADwGf1WpCvwBElSN1nqz2PgAAABNBm9pJqEFsmUwId//+qZYAAJWBAAAADEGf+EUVLC//AACygQAAAA8Bnhd0Qr8ARJUjiOy7K1MAAAAPAZ4ZakK/AESVI3WerPY/AAAAE0GaHkmoQWyZTAh3//6plgAAlYAAAAAMQZ48RRUsL/8AALKBAAAADwGeW3RCvwBElSOI7LsrUwAAAA8Bnl1qQr8ARJUjdZ6s9j4AAAASQZpCSahBbJlMCG///qeEAAEnAAAADEGeYEUVLC//AACygQAAAA8Bnp90Qr8ARJUjiOy7K1MAAAAPAZ6BakK/AESVI3WerPY/AAAAEkGahkmoQWyZTAhn//6eEAAEfAAAAAxBnqRFFSwv/wAAsoEAAAAPAZ7DdEK/AESVI4jsuytTAAAADwGexWpCvwBElSN1nqz2PwAAABpBmslLqEIQWyRGCCgH8gH9h4AhX/44QAARcQAAACdBnudFFSwr/wKvY+1BxN2qw0km5aqGByy1ve12yRWnS8evZrQKXDsAAAAiAZ8IakK/Aq9j7UHE3arDSSblqoYHLLW/xaGxrbmynnKNsAAADGBtb292AAAAbG12aGQAAAAAAAAAAAAAAAAAAAPoAAAfkAABAAABAAAAAAAAAAAAAAAAAQAAAAAAAAAAAAAAAAAAAAEAAAAAAAAAAAAAAAAAAEAAAAAAAAAAAAAAAAAAAAAAAAAAAAAAAAAAAAAAAAACAAALinRyYWsAAABcdGtoZAAAAAMAAAAAAAAAAAAAAAEAAAAAAAAfkAAAAAAAAAAAAAAAAAAAAAAAAQAAAAAAAAAAAAAAAAAAAAEAAAAAAAAAAAAAAAAAAEAAAAABEAAAARAAAAAAACRlZHRzAAAAHGVsc3QAAAAAAAAAAQAAH5AAAAQAAAEAAAAACwJtZGlhAAAAIG1kaGQAAAAAAAAAAAAAAAAAADIAAAGUAFXEAAAAAAAtaGRscgAAAAAAAAAAdmlkZQAAAAAAAAAAAAAAAFZpZGVvSGFuZGxlcgAAAAqtbWluZgAAABR2bWhkAAAAAQAAAAAAAAAAAAAAJGRpbmYAAAAcZHJlZgAAAAAAAAABAAAADHVybCAAAAABAAAKbXN0YmwAAACVc3RzZAAAAAAAAAABAAAAhWF2YzEAAAAAAAAAAQAAAAAAAAAAAAAAAAAAAAABEAEQAEgAAABIAAAAAAAAAAEAAAAAAAAAAAAAAAAAAAAAAAAAAAAAAAAAAAAAAAAAAAAY//8AAAAvYXZjQwH0AA3/4QAXZ/QADZGbKCIR0IAAAAMAgAAAGQeKFMsBAAVo6+PESAAAABhzdHRzAAAAAAAAAAEAAADKAAACAAAAABRzdHNzAAAAAAAAAAEAAAABAAAGOGN0dHMAAAAAAAAAxQAAAAQAAAQAAAAAAQAACAAAAAACAAACAAAAAAEAAAoAAAAAAQAABAAAAAABAAAAAAAAAAEAAAIAAAAAAQAACgAAAAABAAAEAAAAAAEAAAAAAAAAAQAAAgAAAAABAAAKAAAAAAEAAAQAAAAAAQAAAAAAAAABAAACAAAAAAEAAAoAAAAAAQAABAAAAAABAAAAAAAAAAEAAAIAAAAAAQAACgAAAAABAAAEAAAAAAEAAAAAAAAAAQAAAgAAAAABAAAKAAAAAAEAAAQAAAAAAQAAAAAAAAABAAACAAAAAAEAAAoAAAAAAQAABAAAAAABAAAAAAAAAAEAAAIAAAAAAQAACgAAAAABAAAEAAAAAAEAAAAAAAAAAQAAAgAAAAABAAAKAAAAAAEAAAQAAAAAAQAAAAAAAAABAAACAAAAAAEAAAoAAAAAAQAABAAAAAABAAAAAAAAAAEAAAIAAAAAAQAACgAAAAABAAAEAAAAAAEAAAAAAAAAAQAAAgAAAAABAAAKAAAAAAEAAAQAAAAAAQAAAAAAAAABAAACAAAAAAEAAAoAAAAAAQAABAAAAAABAAAAAAAAAAEAAAIAAAAAAQAACgAAAAABAAAEAAAAAAEAAAAAAAAAAQAAAgAAAAABAAAKAAAAAAEAAAQAAAAAAQAAAAAAAAABAAACAAAAAAEAAAoAAAAAAQAABAAAAAABAAAAAAAAAAEAAAIAAAAAAQAACgAAAAABAAAEAAAAAAEAAAAAAAAAAQAAAgAAAAABAAAKAAAAAAEAAAQAAAAAAQAAAAAAAAABAAACAAAAAAEAAAoAAAAAAQAABAAAAAABAAAAAAAAAAEAAAIAAAAAAQAACgAAAAABAAAEAAAAAAEAAAAAAAAAAQAAAgAAAAABAAAKAAAAAAEAAAQAAAAAAQAAAAAAAAABAAACAAAAAAEAAAoAAAAAAQAABAAAAAABAAAAAAAAAAEAAAIAAAAAAQAACgAAAAABAAAEAAAAAAEAAAAAAAAAAQAAAgAAAAABAAAKAAAAAAEAAAQAAAAAAQAAAAAAAAABAAACAAAAAAEAAAoAAAAAAQAABAAAAAABAAAAAAAAAAEAAAIAAAAAAQAACgAAAAABAAAEAAAAAAEAAAAAAAAAAQAAAgAAAAABAAAKAAAAAAEAAAQAAAAAAQAAAAAAAAABAAACAAAAAAEAAAoAAAAAAQAABAAAAAABAAAAAAAAAAEAAAIAAAAAAQAACgAAAAABAAAEAAAAAAEAAAAAAAAAAQAAAgAAAAABAAAKAAAAAAEAAAQAAAAAAQAAAAAAAAABAAACAAAAAAEAAAoAAAAAAQAABAAAAAABAAAAAAAAAAEAAAIAAAAAAQAACgAAAAABAAAEAAAAAAEAAAAAAAAAAQAAAgAAAAABAAAKAAAAAAEAAAQAAAAAAQAAAAAAAAABAAACAAAAAAEAAAoAAAAAAQAABAAAAAABAAAAAAAAAAEAAAIAAAAAAQAACgAAAAABAAAEAAAAAAEAAAAAAAAAAQAAAgAAAAABAAAKAAAAAAEAAAQAAAAAAQAAAAAAAAABAAACAAAAAAEAAAoAAAAAAQAABAAAAAABAAAAAAAAAAEAAAIAAAAAAQAACgAAAAABAAAEAAAAAAEAAAAAAAAAAQAAAgAAAAABAAAKAAAAAAEAAAQAAAAAAQAAAAAAAAABAAACAAAAAAEAAAoAAAAAAQAABAAAAAABAAAAAAAAAAEAAAIAAAAAAQAACgAAAAABAAAEAAAAAAEAAAAAAAAAAQAAAgAAAAABAAAKAAAAAAEAAAQAAAAAAQAAAAAAAAABAAACAAAAAAEAAAoAAAAAAQAABAAAAAABAAAAAAAAAAEAAAIAAAAAAQAACgAAAAABAAAEAAAAAAEAAAAAAAAAAQAAAgAAAAABAAAKAAAAAAEAAAQAAAAAAQAAAAAAAAABAAACAAAAAAEAAAoAAAAAAQAABAAAAAABAAAAAAAAAAEAAAIAAAAAAQAACgAAAAABAAAEAAAAAAEAAAAAAAAAAQAAAgAAAAABAAAKAAAAAAEAAAQAAAAAAQAAAAAAAAABAAACAAAAAAEAAAgAAAAAAgAAAgAAAAAcc3RzYwAAAAAAAAABAAAAAQAAAMoAAAABAAADPHN0c3oAAAAAAAAAAAAAAMoAAAWuAAAAGAAAAB0AAAAdAAAAIgAAABYAAAATAAAAGwAAABIAAAATAAAAEwAAABcAAAAQAAAAEwAAABMAAAAXAAAAEAAAABMAAAATAAAAFwAAABAAAAATAAAAEwAAABcAAAAQAAAAEwAAABMAAAAXAAAAEAAAABMAAAATAAAAFwAAABAAAAATAAAAEwAAABcAAAAQAAAAEwAAABMAAAAXAAAAEAAAABMAAAATAAAAFwAAABAAAAATAAAAEwAAABcAAAAQAAAAEwAAABMAAAAXAAAAEAAAABMAAAATAAAAFwAAABAAAAATAAAAEwAAABcAAAAQAAAAEwAAABMAAAAXAAAAEAAAABMAAAATAAAAFwAAABAAAAATAAAAEwAAABcAAAAQAAAAEwAAABMAAAAXAAAAEAAAABMAAAATAAAAFwAAABAAAAATAAAAEwAAABcAAAAQAAAAEwAAABMAAAAXAAAAEAAAABMAAAATAAAAFwAAABAAAAATAAAAEwAAABcAAAAQAAAAEwAAABMAAAAXAAAAEAAAABMAAAATAAAAFwAAABAAAAATAAAAEwAAABcAAAAQAAAAEwAAABMAAAAXAAAAEAAAABMAAAATAAAAFwAAABAAAAATAAAAEwAAABcAAAAQAAAAEwAAABMAAAAXAAAAEAAAABMAAAATAAAAFwAAABAAAAATAAAAEwAAABcAAAAQAAAAEwAAABMAAAAXAAAAEAAAABMAAAATAAAAFwAAABAAAAATAAAAEwAAABcAAAAQAAAAEwAAABMAAAAXAAAAEAAAABMAAAATAAAAFwAAABAAAAATAAAAEwAAABcAAAAQAAAAEwAAABMAAAAXAAAAEAAAABMAAAATAAAAFwAAABAAAAATAAAAEwAAABcAAAAQAAAAEwAAABMAAAAXAAAAEAAAABMAAAATAAAAFwAAABAAAAATAAAAEwAAABcAAAAQAAAAEwAAABMAAAAXAAAAEAAAABMAAAATAAAAFwAAABAAAAATAAAAEwAAABYAAAAQAAAAEwAAABMAAAAWAAAAEAAAABMAAAATAAAAHgAAACsAAAAmAAAAFHN0Y28AAAAAAAAAAQAAADAAAABidWR0YQAAAFptZXRhAAAAAAAAACFoZGxyAAAAAAAAAABtZGlyYXBwbAAAAAAAAAAAAAAAAC1pbHN0AAAAJal0b28AAAAdZGF0YQAAAAEAAAAATGF2ZjU4LjI2LjEwMQ==\" type=\"video/mp4\" />\n",
       "             </video>"
      ],
      "text/plain": [
       "<IPython.core.display.HTML object>"
      ]
     },
     "execution_count": 46,
     "metadata": {},
     "output_type": "execute_result"
    }
   ],
   "source": [
    "# Evaluation\n",
    "test(agent,env,epochs_test,prefix='cnn_test_explore')\n",
    "HTML(display_videos('cnn_test_explore10.mp4'))"
   ]
  },
  {
   "cell_type": "markdown",
   "metadata": {},
   "source": [
    "***\n",
    "***\n",
    "__BONUS question__ Use the expert DQN from the previous question to generate some winning games. Train a model that mimicks its behavior. Compare the performances."
   ]
  },
  {
   "cell_type": "markdown",
   "metadata": {},
   "source": [
    "***"
   ]
  }
 ],
 "metadata": {
  "kernelspec": {
   "display_name": "Python 3",
   "language": "python",
   "name": "python3"
  },
  "language_info": {
   "codemirror_mode": {
    "name": "ipython",
    "version": 3
   },
   "file_extension": ".py",
   "mimetype": "text/x-python",
   "name": "python",
   "nbconvert_exporter": "python",
   "pygments_lexer": "ipython3",
   "version": "3.6.5"
  }
 },
 "nbformat": 4,
 "nbformat_minor": 2
}
